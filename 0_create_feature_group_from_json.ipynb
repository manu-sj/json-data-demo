{
 "cells": [
  {
   "cell_type": "code",
   "execution_count": 1,
   "id": "45b7a274-c8d3-457f-ad19-8d1157838686",
   "metadata": {},
   "outputs": [],
   "source": [
    "import hopsworks\n",
    "import pandas as pd\n",
    "import json\n",
    "from sklearn.linear_model import LinearRegression\n",
    "from sklearn.metrics import mean_squared_error, r2_score\n",
    "\n",
    "# Function that generates some similated event data\n",
    "from generate_data import generate_events, generate_users"
   ]
  },
  {
   "cell_type": "markdown",
   "id": "e688bfcc-430f-4a39-816a-ec0824ec2c76",
   "metadata": {},
   "source": [
    "## Inserting the JSON into a feature group"
   ]
  },
  {
   "cell_type": "markdown",
   "id": "51f6811c-2400-492f-8b54-2b9c898bdbed",
   "metadata": {},
   "source": [
    "#### Connect to Hopsworks"
   ]
  },
  {
   "cell_type": "code",
   "execution_count": 2,
   "id": "a359218c-0e83-4265-901a-1c0c7a0a72e7",
   "metadata": {},
   "outputs": [
    {
     "name": "stdout",
     "output_type": "stream",
     "text": [
      "2025-03-13 09:32:13,190 INFO: Initializing external client\n",
      "2025-03-13 09:32:13,191 INFO: Base URL: https://10.87.41.143:28181\n",
      "2025-03-13 09:32:14,776 INFO: Python Engine initialized.\n",
      "\n",
      "Logged in to project, explore it here https://10.87.41.143:28181/p/119\n"
     ]
    }
   ],
   "source": [
    "# Login to Hopsworks.\n",
    "project = hopsworks.login()\n",
    "\n",
    "# Fetch the feature store.\n",
    "fs = project.get_feature_store()"
   ]
  },
  {
   "cell_type": "markdown",
   "id": "46c11e0a-521d-4d31-b704-e7093f71bd21",
   "metadata": {},
   "source": [
    "#### Create a dataframe using the json data."
   ]
  },
  {
   "cell_type": "code",
   "execution_count": 3,
   "id": "74fe066b-0651-4c02-b5eb-c29ca4470910",
   "metadata": {},
   "outputs": [
    {
     "data": {
      "text/plain": [
       "['{\"event_time\": \"2028-02-11 00:00:00\", \"event_id\": 0, \"user_id\": 1, \"click_count\": 7, \"time_spent\": 7.08, \"scroll_depth\": 73.65, \"purchase_completed\": 0, \"checkout_time\": \"2028-02-11 04:00:00\"}',\n",
       " '{\"event_time\": \"2024-06-22 13:00:00\", \"event_id\": 1, \"user_id\": 14, \"click_count\": 0, \"time_spent\": 3.26, \"scroll_depth\": 23.27, \"purchase_completed\": 0, \"checkout_time\": \"2024-06-22 17:00:00\"}',\n",
       " '{\"event_time\": \"2033-09-19 05:00:00\", \"event_id\": 2, \"user_id\": 7, \"click_count\": 17, \"time_spent\": 12.88, \"scroll_depth\": 44.92, \"purchase_completed\": 1, \"checkout_time\": \"2033-09-19 11:00:00\"}',\n",
       " '{\"event_time\": \"2024-02-05 11:00:00\", \"event_id\": 3, \"user_id\": 28, \"click_count\": 5, \"time_spent\": 21.1, \"scroll_depth\": 34.03, \"purchase_completed\": 0, \"checkout_time\": \"2024-02-05 12:00:00\"}',\n",
       " '{\"event_time\": \"2029-01-12 06:00:00\", \"event_id\": 4, \"user_id\": 25, \"click_count\": 3, \"time_spent\": 3.24, \"scroll_depth\": 9.67, \"purchase_completed\": 1, \"checkout_time\": \"2029-01-12 10:00:00\"}',\n",
       " '{\"event_time\": \"2024-08-25 07:00:00\", \"event_id\": 5, \"user_id\": 9, \"click_count\": 14, \"time_spent\": 16.32, \"scroll_depth\": 97.31, \"purchase_completed\": 1, \"checkout_time\": \"2024-08-25 07:00:00\"}',\n",
       " '{\"event_time\": \"2028-05-20 03:00:00\", \"event_id\": 6, \"user_id\": 18, \"click_count\": 20, \"time_spent\": 18.75, \"scroll_depth\": 86.17, \"purchase_completed\": 0, \"checkout_time\": \"2028-05-20 08:00:00\"}',\n",
       " '{\"event_time\": \"2024-09-07 06:00:00\", \"event_id\": 7, \"user_id\": 3, \"click_count\": 7, \"time_spent\": 23.31, \"scroll_depth\": 98.52, \"purchase_completed\": 0, \"checkout_time\": \"2024-09-07 12:00:00\"}',\n",
       " '{\"event_time\": \"2029-09-06 23:00:00\", \"event_id\": 8, \"user_id\": 4, \"click_count\": 8, \"time_spent\": 13.88, \"scroll_depth\": 83.41, \"purchase_completed\": 0, \"checkout_time\": \"2029-09-07 01:00:00\"}',\n",
       " '{\"event_time\": \"2027-02-18 04:00:00\", \"event_id\": 9, \"user_id\": 12, \"click_count\": 8, \"time_spent\": 21.2, \"scroll_depth\": 68.35, \"purchase_completed\": 0, \"checkout_time\": \"2027-02-18 08:00:00\"}',\n",
       " '{\"event_time\": \"2026-07-23 15:00:00\", \"event_id\": 10, \"user_id\": 21, \"click_count\": 17, \"time_spent\": 22.01, \"scroll_depth\": 16.34, \"purchase_completed\": 1, \"checkout_time\": \"2026-07-23 17:00:00\"}',\n",
       " '{\"event_time\": \"2033-07-27 06:00:00\", \"event_id\": 11, \"user_id\": 30, \"click_count\": 17, \"time_spent\": 6.98, \"scroll_depth\": 32.43, \"purchase_completed\": 0, \"checkout_time\": \"2033-07-27 07:00:00\"}',\n",
       " '{\"event_time\": \"2024-06-24 07:00:00\", \"event_id\": 12, \"user_id\": 27, \"click_count\": 10, \"time_spent\": 12.33, \"scroll_depth\": 6.62, \"purchase_completed\": 1, \"checkout_time\": \"2024-06-24 08:00:00\"}',\n",
       " '{\"event_time\": \"2031-06-19 11:00:00\", \"event_id\": 13, \"user_id\": 21, \"click_count\": 12, \"time_spent\": 26.6, \"scroll_depth\": 64.29, \"purchase_completed\": 0, \"checkout_time\": \"2031-06-19 13:00:00\"}',\n",
       " '{\"event_time\": \"2027-09-08 21:00:00\", \"event_id\": 14, \"user_id\": 5, \"click_count\": 17, \"time_spent\": 16.4, \"scroll_depth\": 74.7, \"purchase_completed\": 1, \"checkout_time\": \"2027-09-09 01:00:00\"}',\n",
       " '{\"event_time\": \"2029-05-30 23:00:00\", \"event_id\": 15, \"user_id\": 13, \"click_count\": 7, \"time_spent\": 29.92, \"scroll_depth\": 13.83, \"purchase_completed\": 1, \"checkout_time\": \"2029-05-30 23:00:00\"}',\n",
       " '{\"event_time\": \"2024-09-14 07:00:00\", \"event_id\": 16, \"user_id\": 25, \"click_count\": 3, \"time_spent\": 5.01, \"scroll_depth\": 16.0, \"purchase_completed\": 1, \"checkout_time\": \"2024-09-14 11:00:00\"}',\n",
       " '{\"event_time\": \"2029-10-02 08:00:00\", \"event_id\": 17, \"user_id\": 3, \"click_count\": 12, \"time_spent\": 18.08, \"scroll_depth\": 46.8, \"purchase_completed\": 1, \"checkout_time\": \"2029-10-02 12:00:00\"}',\n",
       " '{\"event_time\": \"2024-03-03 16:00:00\", \"event_id\": 18, \"user_id\": 28, \"click_count\": 3, \"time_spent\": 20.61, \"scroll_depth\": 53.7, \"purchase_completed\": 1, \"checkout_time\": \"2024-03-03 22:00:00\"}',\n",
       " '{\"event_time\": \"2029-01-31 19:00:00\", \"event_id\": 19, \"user_id\": 21, \"click_count\": 3, \"time_spent\": 9.16, \"scroll_depth\": 15.82, \"purchase_completed\": 0, \"checkout_time\": \"2029-02-01 00:00:00\"}']"
      ]
     },
     "execution_count": 3,
     "metadata": {},
     "output_type": "execute_result"
    }
   ],
   "source": [
    "# Generating simulated json data\n",
    "data = generate_events(20)\n",
    "data"
   ]
  },
  {
   "cell_type": "code",
   "execution_count": 4,
   "id": "ae0441e9-81f2-4812-ba69-1ca9e1c11f0b",
   "metadata": {},
   "outputs": [],
   "source": [
    "# Creating a pandas dataframe\n",
    "df = pd.DataFrame({\"data\" : data})\n",
    "\n",
    "# Extract primary key out json and create a new column in the pandas dataframe. \n",
    "df[\"event_id\"] = df[\"data\"].apply(lambda x : json.loads(x)[\"event_id\"])"
   ]
  },
  {
   "cell_type": "markdown",
   "id": "2de70b03-e207-4c8e-89c2-36bef1d5fac7",
   "metadata": {},
   "source": [
    "#### Create a feature group and insert data\n",
    "\n",
    "By default the json column is stored as a `STRING` which is stored as `VARCHAR(100)` in the offline feature store. So insertion of any json data that has length greater than 100 characters will result in an error. However this can be overcome [explcitly specifing the schema](https://docs.hopsworks.ai/latest/user_guides/fs/feature_group/data_types/#explicit-schema-definition) of the feature group to allow the column to take a much bigger json type. Different data types that can be used for storing json data can be found in the documentation [here](https://docs.hopsworks.ai/latest/user_guides/fs/feature_group/data_types/#string-online-data-types).  "
   ]
  },
  {
   "cell_type": "code",
   "execution_count": 5,
   "id": "9c87676a-2015-41bd-a221-f2fd21cd09fe",
   "metadata": {},
   "outputs": [],
   "source": [
    "# Create a feature group.\n",
    "fg = fs.get_or_create_feature_group(name = \"fg_raw_event_data\" ,\n",
    "                                    version = 1, \n",
    "                                    primary_key = [\"event_id\"])"
   ]
  },
  {
   "cell_type": "code",
   "execution_count": 6,
   "id": "92f2c18a-a6d2-4599-9960-937f37b06c5d",
   "metadata": {},
   "outputs": [
    {
     "name": "stdout",
     "output_type": "stream",
     "text": [
      "Feature Group created successfully, explore it at \n",
      "https://10.87.41.143:28181/p/119/fs/67/fg/36\n"
     ]
    },
    {
     "name": "stderr",
     "output_type": "stream",
     "text": [
      "Uploading Dataframe: 100.00% |███████████████████████████████████████████████| Rows 20/20 | Elapsed Time: 00:00 | Remaining Time: 00:00\n"
     ]
    },
    {
     "name": "stdout",
     "output_type": "stream",
     "text": [
      "Launching job: fg_raw_event_data_1_offline_fg_materialization\n",
      "Job started successfully, you can follow the progress at \n",
      "https://10.87.41.143:28181/p/119/jobs/named/fg_raw_event_data_1_offline_fg_materialization/executions\n",
      "2025-03-13 09:32:41,053 INFO: Waiting for execution to finish. Current state: SUBMITTED. Final status: UNDEFINED\n",
      "2025-03-13 09:32:44,466 INFO: Waiting for execution to finish. Current state: RUNNING. Final status: UNDEFINED\n",
      "2025-03-13 09:34:07,894 INFO: Waiting for execution to finish. Current state: AGGREGATING_LOGS. Final status: SUCCEEDED\n",
      "2025-03-13 09:34:08,044 INFO: Waiting for log aggregation to finish.\n",
      "2025-03-13 09:34:17,098 INFO: Execution finished successfully.\n"
     ]
    },
    {
     "data": {
      "text/plain": [
       "(Job('fg_raw_event_data_1_offline_fg_materialization', 'SPARK'), None)"
      ]
     },
     "execution_count": 6,
     "metadata": {},
     "output_type": "execute_result"
    }
   ],
   "source": [
    "# Insert the dataframe\n",
    "fg.insert(df, wait=True)"
   ]
  },
  {
   "cell_type": "markdown",
   "id": "0a8c8b4e-eca3-4413-beea-b499815853f7",
   "metadata": {},
   "source": [
    "#### Inserting more data with a more features"
   ]
  },
  {
   "cell_type": "code",
   "execution_count": 7,
   "id": "8211eba8-87e1-46d8-9f19-43c3641a0c97",
   "metadata": {},
   "outputs": [
    {
     "data": {
      "text/plain": [
       "['{\"event_time\": \"2027-12-09 10:00:00\", \"event_id\": 20, \"user_id\": 29, \"click_count\": 16, \"time_spent\": 22.98, \"scroll_depth\": 50.77, \"purchase_completed\": 0, \"checkout_time\": \"2027-12-09 16:00:00\"}',\n",
       " '{\"event_time\": \"2028-06-17 21:00:00\", \"event_id\": 21, \"user_id\": 21, \"click_count\": 20, \"time_spent\": 15.48, \"scroll_depth\": 19.89, \"purchase_completed\": 1, \"checkout_time\": \"2028-06-18 03:00:00\", \"ad_interaction\": 1}',\n",
       " '{\"event_time\": \"2031-12-06 10:00:00\", \"event_id\": 22, \"user_id\": 18, \"click_count\": 0, \"time_spent\": 18.17, \"scroll_depth\": 48.86, \"purchase_completed\": 0, \"checkout_time\": \"2031-12-06 12:00:00\", \"ad_interaction\": 2}',\n",
       " '{\"event_time\": \"2024-11-12 08:00:00\", \"event_id\": 23, \"user_id\": 8, \"click_count\": 7, \"time_spent\": 26.4, \"scroll_depth\": 94.69, \"purchase_completed\": 0, \"checkout_time\": \"2024-11-12 13:00:00\", \"ad_interaction\": 3}',\n",
       " '{\"event_time\": \"2025-01-12 23:00:00\", \"event_id\": 24, \"user_id\": 27, \"click_count\": 17, \"time_spent\": 23.09, \"scroll_depth\": 12.84, \"purchase_completed\": 1, \"checkout_time\": \"2025-01-13 03:00:00\", \"ad_interaction\": 1}',\n",
       " '{\"event_time\": \"2031-11-21 19:00:00\", \"event_id\": 25, \"user_id\": 9, \"click_count\": 19, \"time_spent\": 12.98, \"scroll_depth\": 21.18, \"purchase_completed\": 0, \"checkout_time\": \"2031-11-22 00:00:00\", \"ad_interaction\": 2}',\n",
       " '{\"event_time\": \"2033-09-19 04:00:00\", \"event_id\": 26, \"user_id\": 13, \"click_count\": 11, \"time_spent\": 13.42, \"scroll_depth\": 51.76, \"purchase_completed\": 0, \"checkout_time\": \"2033-09-19 05:00:00\", \"ad_interaction\": 1}',\n",
       " '{\"event_time\": \"2029-01-20 09:00:00\", \"event_id\": 27, \"user_id\": 3, \"click_count\": 0, \"time_spent\": 17.86, \"scroll_depth\": 23.01, \"purchase_completed\": 0, \"checkout_time\": \"2029-01-20 09:00:00\", \"ad_interaction\": 0}',\n",
       " '{\"event_time\": \"2033-06-08 15:00:00\", \"event_id\": 28, \"user_id\": 23, \"click_count\": 1, \"time_spent\": 7.25, \"scroll_depth\": 90.54, \"purchase_completed\": 1, \"checkout_time\": \"2033-06-08 15:00:00\", \"ad_interaction\": 4}',\n",
       " '{\"event_time\": \"2028-02-29 20:00:00\", \"event_id\": 29, \"user_id\": 8, \"click_count\": 15, \"time_spent\": 6.82, \"scroll_depth\": 13.23, \"purchase_completed\": 1, \"checkout_time\": \"2028-02-29 21:00:00\", \"ad_interaction\": 3}',\n",
       " '{\"event_time\": \"2030-02-01 02:00:00\", \"event_id\": 30, \"user_id\": 26, \"click_count\": 6, \"time_spent\": 3.28, \"scroll_depth\": 65.9, \"purchase_completed\": 1, \"checkout_time\": \"2030-02-01 05:00:00\", \"ad_interaction\": 3}',\n",
       " '{\"event_time\": \"2024-10-22 20:00:00\", \"event_id\": 31, \"user_id\": 15, \"click_count\": 20, \"time_spent\": 29.53, \"scroll_depth\": 9.84, \"purchase_completed\": 1, \"checkout_time\": \"2024-10-23 01:00:00\", \"ad_interaction\": 2}',\n",
       " '{\"event_time\": \"2025-08-19 18:00:00\", \"event_id\": 32, \"user_id\": 26, \"click_count\": 7, \"time_spent\": 6.15, \"scroll_depth\": 53.63, \"purchase_completed\": 0, \"checkout_time\": \"2025-08-19 21:00:00\", \"ad_interaction\": 1}',\n",
       " '{\"event_time\": \"2030-12-01 13:00:00\", \"event_id\": 33, \"user_id\": 9, \"click_count\": 7, \"time_spent\": 26.3, \"scroll_depth\": 7.54, \"purchase_completed\": 0, \"checkout_time\": \"2030-12-01 13:00:00\", \"ad_interaction\": 5}',\n",
       " '{\"event_time\": \"2024-03-21 14:00:00\", \"event_id\": 34, \"user_id\": 18, \"click_count\": 2, \"time_spent\": 27.83, \"scroll_depth\": 84.87, \"purchase_completed\": 0, \"checkout_time\": \"2024-03-21 17:00:00\", \"ad_interaction\": 3}',\n",
       " '{\"event_time\": \"2027-03-13 08:00:00\", \"event_id\": 35, \"user_id\": 16, \"click_count\": 12, \"time_spent\": 27.12, \"scroll_depth\": 16.46, \"purchase_completed\": 0, \"checkout_time\": \"2027-03-13 11:00:00\", \"ad_interaction\": 2}',\n",
       " '{\"event_time\": \"2030-10-20 22:00:00\", \"event_id\": 36, \"user_id\": 30, \"click_count\": 9, \"time_spent\": 12.98, \"scroll_depth\": 95.73, \"purchase_completed\": 1, \"checkout_time\": \"2030-10-20 23:00:00\", \"ad_interaction\": 1}',\n",
       " '{\"event_time\": \"2027-04-03 22:00:00\", \"event_id\": 37, \"user_id\": 10, \"click_count\": 1, \"time_spent\": 17.59, \"scroll_depth\": 54.22, \"purchase_completed\": 1, \"checkout_time\": \"2027-04-03 22:00:00\", \"ad_interaction\": 0}',\n",
       " '{\"event_time\": \"2031-02-16 21:00:00\", \"event_id\": 38, \"user_id\": 19, \"click_count\": 16, \"time_spent\": 27.62, \"scroll_depth\": 53.11, \"purchase_completed\": 0, \"checkout_time\": \"2031-02-17 01:00:00\", \"ad_interaction\": 0}',\n",
       " '{\"event_time\": \"2026-10-11 20:00:00\", \"event_id\": 39, \"user_id\": 28, \"click_count\": 2, \"time_spent\": 18.05, \"scroll_depth\": 67.52, \"purchase_completed\": 0, \"checkout_time\": \"2026-10-11 23:00:00\", \"ad_interaction\": 0}']"
      ]
     },
     "execution_count": 7,
     "metadata": {},
     "output_type": "execute_result"
    }
   ],
   "source": [
    "# Generating some more data with a new features and inserting it into a feature group.\n",
    "# You can see from the data that the new feature `ad_interaction` is present in the data.\n",
    "data = generate_events(20)\n",
    "data"
   ]
  },
  {
   "cell_type": "code",
   "execution_count": 8,
   "id": "98dc5c17-c48c-4785-9ab9-1bb93f0ab2ab",
   "metadata": {},
   "outputs": [
    {
     "name": "stderr",
     "output_type": "stream",
     "text": [
      "Uploading Dataframe: 100.00% |███████████████████████████████████████████████| Rows 20/20 | Elapsed Time: 00:00 | Remaining Time: 00:00\n"
     ]
    },
    {
     "name": "stdout",
     "output_type": "stream",
     "text": [
      "Launching job: fg_raw_event_data_1_offline_fg_materialization\n",
      "Job started successfully, you can follow the progress at \n",
      "https://10.87.41.143:28181/p/119/jobs/named/fg_raw_event_data_1_offline_fg_materialization/executions\n"
     ]
    },
    {
     "data": {
      "text/plain": [
       "(Job('fg_raw_event_data_1_offline_fg_materialization', 'SPARK'), None)"
      ]
     },
     "execution_count": 8,
     "metadata": {},
     "output_type": "execute_result"
    }
   ],
   "source": [
    "# Creating a pandas dataframe\n",
    "df = pd.DataFrame({\"data\" : data})\n",
    "\n",
    "# Extract primary key out json and create a new column in the pandas dataframe. \n",
    "df[\"event_id\"] = df[\"data\"].apply(lambda x : json.loads(x)[\"event_id\"])\n",
    "\n",
    "# Insert the dataframe\n",
    "fg.insert(df)"
   ]
  },
  {
   "cell_type": "markdown",
   "id": "23144254-9f21-480d-910e-577e50e1b49c",
   "metadata": {},
   "source": [
    "## Creating the first test model"
   ]
  },
  {
   "cell_type": "markdown",
   "id": "a9b4bb9c-c6a4-4cca-b122-fc3df244ecaa",
   "metadata": {},
   "source": [
    "#### Option 1: Create a feature view using the json data. The perform the json parsing after creating train test-split"
   ]
  },
  {
   "cell_type": "code",
   "execution_count": 9,
   "id": "aa1297ef-e680-42b0-8302-f94353e7c32e",
   "metadata": {},
   "outputs": [
    {
     "name": "stdout",
     "output_type": "stream",
     "text": [
      "2025-03-13 09:35:18,199 INFO: Using ['data'] as features for the query.To include primary key and event time use `select_all`.\n",
      "Feature view created successfully, explore it at \n",
      "https://10.87.41.143:28181/p/119/fs/67/fv/fv_test_1/version/1\n"
     ]
    }
   ],
   "source": [
    "# Write a query to read data from required feature group.\n",
    "query = fg.select_features()\n",
    "\n",
    "# Create a feature view.\n",
    "fv = fs.get_or_create_feature_view(name=\"fv_test_1\", \n",
    "                                   query = query, \n",
    "                                   version=1)"
   ]
  },
  {
   "cell_type": "code",
   "execution_count": 11,
   "id": "a1afc612-f1de-4fe9-8abb-ace88a3337bd",
   "metadata": {},
   "outputs": [
    {
     "name": "stdout",
     "output_type": "stream",
     "text": [
      "Finished: Reading data from Hopsworks, using Hopsworks Feature Query Service (0.58s) \n",
      "2025-03-13 09:35:47,034 WARNING: VersionWarning: Incremented version to `2`.\n",
      "\n",
      "2025-03-13 09:35:47,035 INFO: Provenance cached data - overwriting last accessed/created training dataset from 1 to 2.\n"
     ]
    }
   ],
   "source": [
    "# Create a train-test split \n",
    "X_train, X_test, _, _ = fv.train_test_split(test_size = 0.2)\n",
    "\n",
    "# Json normalize the extracted dataframe.\n",
    "X_train = pd.json_normalize(X_train[\"data\"].apply(lambda x : json.loads(x)))\n",
    "X_test = pd.json_normalize(X_test[\"data\"].apply(lambda x : json.loads(x)))\n",
    "\n",
    "# Parse the required features\n",
    "y_train = X_train[[\"purchase_completed\"]]\n",
    "y_test = X_test[[\"purchase_completed\"]]\n",
    "\n",
    "X_train = X_train[[\"click_count\", \"time_spent\", \"scroll_depth\"]]\n",
    "X_test = X_test[[\"click_count\", \"time_spent\", \"scroll_depth\"]]\n",
    "\n",
    "# Do any feature enginerring if required and train the required mode"
   ]
  },
  {
   "cell_type": "markdown",
   "id": "f69a1f1a-8841-4d2f-96b5-355102aab33b",
   "metadata": {},
   "source": [
    "#### Option 2: Create a feature view using the have a model dependent transformation function that performs the extract and splitting of json data into features.\n",
    "\n",
    "However it is important to note that aggregations inside transformation functions are not currently supported.\n",
    "You can find more information regarding transformation functions [here](https://docs.hopsworks.ai/latest/user_guides/fs/transformation_functions/)"
   ]
  },
  {
   "cell_type": "code",
   "execution_count": 17,
   "id": "c7a3763d-7f95-4fee-b0b1-64cc3328f627",
   "metadata": {},
   "outputs": [
    {
     "name": "stdout",
     "output_type": "stream",
     "text": [
      "2025-03-13 09:36:44,263 WARNING: UserWarning: Cannot extract imported dependencies for the UDF from the module in which it is defined. Please make sure to import all dependencies for the UDF inside the function.\n",
      "\n"
     ]
    }
   ],
   "source": [
    "@hopsworks.udf([int, int ,int, int], mode=\"pandas\", drop=[\"data\"])\n",
    "def extract_features(data):\n",
    "    # Need to be imported inside the function only if the transformation function defined in a jupyter notebook otherwise can be imported inside the module instead of the funciton.\n",
    "    from pandas import json_normalize\n",
    "    import json\n",
    "    \n",
    "    # Normalize the data\n",
    "    data = json_normalize(data.apply(lambda x : json.loads(x)))\n",
    "\n",
    "    # Return the features\n",
    "    return data[\"click_count\"], data[\"time_spent\"], data[\"scroll_depth\"], data[\"purchase_completed\"]"
   ]
  },
  {
   "cell_type": "code",
   "execution_count": 22,
   "id": "77867320-51a8-494f-b652-c9d2612178aa",
   "metadata": {},
   "outputs": [
    {
     "name": "stdout",
     "output_type": "stream",
     "text": [
      "2025-03-13 09:37:30,983 INFO: Using ['data'] as features for the query.To include primary key and event time use `select_all`.\n",
      "Feature view created successfully, explore it at \n",
      "https://10.87.41.143:28181/p/119/fs/67/fv/fv_test_2/version/1\n"
     ]
    }
   ],
   "source": [
    "# Creating a feature view with the transformation function.\n",
    "fv = fs.get_or_create_feature_view(name=\"fv_test_2\", \n",
    "                                   query = fg.select_features(), \n",
    "                                   version=1, \n",
    "                                   transformation_functions = [extract_features(\"data\").alias(\"click_count\", \"time_spent\", \"scroll_depth\", \"purchase_completed\")])"
   ]
  },
  {
   "cell_type": "code",
   "execution_count": 23,
   "id": "294423f5-35ed-4695-85b1-cbd0282cc89e",
   "metadata": {},
   "outputs": [
    {
     "name": "stdout",
     "output_type": "stream",
     "text": [
      "Finished: Reading data from Hopsworks, using Hopsworks Feature Query Service (0.52s) \n",
      "2025-03-13 09:37:43,518 WARNING: VersionWarning: Incremented version to `1`.\n",
      "\n"
     ]
    }
   ],
   "source": [
    "X_train, X_test, _, _ = fv.train_test_split(test_size = 0.2)\n",
    "\n",
    "# Parse the required features\n",
    "y_train = X_train[[\"purchase_completed\"]]\n",
    "y_test = X_test[[\"purchase_completed\"]]\n",
    "\n",
    "X_train = X_train[[\"click_count\", \"time_spent\", \"scroll_depth\"]]\n",
    "X_test = X_test[[\"click_count\", \"time_spent\", \"scroll_depth\"]]\n",
    "\n",
    "# Do any feature enginering if required and train your model .....\n",
    "\n"
   ]
  },
  {
   "cell_type": "code",
   "execution_count": null,
   "id": "5232cc1b-3c1d-492e-a2ac-f7959e424305",
   "metadata": {},
   "outputs": [],
   "source": []
  }
 ],
 "metadata": {
  "kernelspec": {
   "display_name": "Python 3 (ipykernel)",
   "language": "python",
   "name": "python3"
  },
  "language_info": {
   "codemirror_mode": {
    "name": "ipython",
    "version": 3
   },
   "file_extension": ".py",
   "mimetype": "text/x-python",
   "name": "python",
   "nbconvert_exporter": "python",
   "pygments_lexer": "ipython3",
   "version": "3.10.16"
  }
 },
 "nbformat": 4,
 "nbformat_minor": 5
}
