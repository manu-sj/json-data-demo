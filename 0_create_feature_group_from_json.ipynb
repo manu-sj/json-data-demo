{
 "cells": [
  {
   "cell_type": "code",
   "execution_count": 1,
   "id": "45b7a274-c8d3-457f-ad19-8d1157838686",
   "metadata": {},
   "outputs": [],
   "source": [
    "import hopsworks\n",
    "import pandas as pd\n",
    "import json\n",
    "from sklearn.linear_model import LinearRegression\n",
    "from sklearn.metrics import mean_squared_error, r2_score\n",
    "\n",
    "# Function that generates some similated event data\n",
    "from generate_data import generate_events, generate_users"
   ]
  },
  {
   "cell_type": "markdown",
   "id": "e688bfcc-430f-4a39-816a-ec0824ec2c76",
   "metadata": {},
   "source": [
    "## Inserting the JSON into a feature group"
   ]
  },
  {
   "cell_type": "markdown",
   "id": "51f6811c-2400-492f-8b54-2b9c898bdbed",
   "metadata": {},
   "source": [
    "#### Connect to Hopsworks"
   ]
  },
  {
   "cell_type": "code",
   "execution_count": 2,
   "id": "a359218c-0e83-4265-901a-1c0c7a0a72e7",
   "metadata": {},
   "outputs": [
    {
     "name": "stdout",
     "output_type": "stream",
     "text": [
      "2025-03-12 22:48:39,080 INFO: Initializing external client\n",
      "2025-03-12 22:48:39,081 INFO: Base URL: https://10.87.41.143:28181\n",
      "2025-03-12 22:48:39,694 INFO: Python Engine initialized.\n",
      "\n",
      "Logged in to project, explore it here https://10.87.41.143:28181/p/119\n"
     ]
    }
   ],
   "source": [
    "# Login to Hopsworks.\n",
    "project = hopsworks.login()\n",
    "\n",
    "# Fetch the feature store.\n",
    "fs = project.get_feature_store()"
   ]
  },
  {
   "cell_type": "markdown",
   "id": "46c11e0a-521d-4d31-b704-e7093f71bd21",
   "metadata": {},
   "source": [
    "#### Create a dataframe using the json data."
   ]
  },
  {
   "cell_type": "code",
   "execution_count": 3,
   "id": "74fe066b-0651-4c02-b5eb-c29ca4470910",
   "metadata": {},
   "outputs": [
    {
     "data": {
      "text/plain": [
       "['{\"event_time\": \"2025-03-12T21:48:40.177349\", \"event_id\": 0, \"user_id\": 1, \"click_count\": 8, \"time_spent\": 7.72, \"scroll_depth\": 13.95, \"purchase_amount\": 51.25}',\n",
       " '{\"event_time\": \"2025-03-12T21:48:40.177399\", \"event_id\": 1, \"user_id\": 24, \"click_count\": 17, \"time_spent\": 3.06, \"scroll_depth\": 42.19, \"purchase_amount\": 14.9}',\n",
       " '{\"event_time\": \"2025-03-12T21:48:40.177446\", \"event_id\": 2, \"user_id\": 7, \"click_count\": 7, \"time_spent\": 15.41, \"scroll_depth\": 2.65, \"purchase_amount\": 99.42}',\n",
       " '{\"event_time\": \"2025-03-12T21:48:40.177558\", \"event_id\": 3, \"user_id\": 21, \"click_count\": 17, \"time_spent\": 12.88, \"scroll_depth\": 44.92, \"purchase_amount\": 139.1}',\n",
       " '{\"event_time\": \"2025-03-12T21:48:40.177579\", \"event_id\": 4, \"user_id\": 28, \"click_count\": 0, \"time_spent\": 22.88, \"scroll_depth\": 15.97, \"purchase_amount\": 211.31}',\n",
       " '{\"event_time\": \"2025-03-12T21:48:40.177595\", \"event_id\": 5, \"user_id\": 9, \"click_count\": 4, \"time_spent\": 6.85, \"scroll_depth\": 76.35, \"purchase_amount\": 51.11}',\n",
       " '{\"event_time\": \"2025-03-12T21:48:40.177610\", \"event_id\": 6, \"user_id\": 13, \"click_count\": 3, \"time_spent\": 11.09, \"scroll_depth\": 34.4, \"purchase_amount\": 132.26}',\n",
       " '{\"event_time\": \"2025-03-12T21:48:40.177625\", \"event_id\": 7, \"user_id\": 2, \"click_count\": 14, \"time_spent\": 16.32, \"scroll_depth\": 97.31, \"purchase_amount\": 189.27}',\n",
       " '{\"event_time\": \"2025-03-12T21:48:40.177639\", \"event_id\": 8, \"user_id\": 18, \"click_count\": 9, \"time_spent\": 24.97, \"scroll_depth\": 61.85, \"purchase_amount\": 430.85}',\n",
       " '{\"event_time\": \"2025-03-12T21:48:40.177654\", \"event_id\": 9, \"user_id\": 19, \"click_count\": 6, \"time_spent\": 21.28, \"scroll_depth\": 4.58, \"purchase_amount\": 113.95}',\n",
       " '{\"event_time\": \"2025-03-12T21:48:40.177669\", \"event_id\": 10, \"user_id\": 10, \"click_count\": 2, \"time_spent\": 25.73, \"scroll_depth\": 86.65, \"purchase_amount\": 190.06}',\n",
       " '{\"event_time\": \"2025-03-12T21:48:40.177683\", \"event_id\": 11, \"user_id\": 15, \"click_count\": 20, \"time_spent\": 25.11, \"scroll_depth\": 16.27, \"purchase_amount\": 177.64}',\n",
       " '{\"event_time\": \"2025-03-12T21:48:40.177698\", \"event_id\": 12, \"user_id\": 22, \"click_count\": 8, \"time_spent\": 21.2, \"scroll_depth\": 68.35, \"purchase_amount\": 35.7}',\n",
       " '{\"event_time\": \"2025-03-12T21:48:40.177712\", \"event_id\": 13, \"user_id\": 21, \"click_count\": 5, \"time_spent\": 16.26, \"scroll_depth\": 24.48, \"purchase_amount\": 231.13}',\n",
       " '{\"event_time\": \"2025-03-12T21:48:40.177727\", \"event_id\": 14, \"user_id\": 9, \"click_count\": 20, \"time_spent\": 20.8, \"scroll_depth\": 21.96, \"purchase_amount\": 162.14}',\n",
       " '{\"event_time\": \"2025-03-12T21:48:40.177741\", \"event_id\": 15, \"user_id\": 25, \"click_count\": 1, \"time_spent\": 7.26, \"scroll_depth\": 3.21, \"purchase_amount\": 157.73}',\n",
       " '{\"event_time\": \"2025-03-12T21:48:40.177755\", \"event_id\": 16, \"user_id\": 9, \"click_count\": 2, \"time_spent\": 6.72, \"scroll_depth\": 94.29, \"purchase_amount\": 438.18}',\n",
       " '{\"event_time\": \"2025-03-12T21:48:40.177770\", \"event_id\": 17, \"user_id\": 11, \"click_count\": 6, \"time_spent\": 19.84, \"scroll_depth\": 39.56, \"purchase_amount\": 457.27}',\n",
       " '{\"event_time\": \"2025-03-12T21:48:40.177785\", \"event_id\": 18, \"user_id\": 15, \"click_count\": 4, \"time_spent\": 8.31, \"scroll_depth\": 24.66, \"purchase_amount\": 280.68}',\n",
       " '{\"event_time\": \"2025-03-12T21:48:40.177799\", \"event_id\": 19, \"user_id\": 9, \"click_count\": 18, \"time_spent\": 13.14, \"scroll_depth\": 58.35, \"purchase_amount\": 181.0}']"
      ]
     },
     "execution_count": 3,
     "metadata": {},
     "output_type": "execute_result"
    }
   ],
   "source": [
    "# Generating simulated json data\n",
    "data = generate_events(20)\n",
    "data"
   ]
  },
  {
   "cell_type": "code",
   "execution_count": 4,
   "id": "ae0441e9-81f2-4812-ba69-1ca9e1c11f0b",
   "metadata": {},
   "outputs": [],
   "source": [
    "# Creating a pandas dataframe\n",
    "df = pd.DataFrame({\"data\" : data})\n",
    "\n",
    "# Extract primary key out json and create a new column in the pandas dataframe. \n",
    "df[\"event_id\"] = df[\"data\"].apply(lambda x : json.loads(x)[\"event_id\"])"
   ]
  },
  {
   "cell_type": "markdown",
   "id": "2de70b03-e207-4c8e-89c2-36bef1d5fac7",
   "metadata": {},
   "source": [
    "#### Create a feature group and insert data\n",
    "\n",
    "By default the json column is stored as a `STRING` which is stored as `VARCHAR(100)` in the offline feature store. So insertion of any json data that has length greater than 100 characters will result in an error. However this can be overcome [explcitly specifing the schema](https://docs.hopsworks.ai/latest/user_guides/fs/feature_group/data_types/#explicit-schema-definition) of the feature group to allow the column to take a much bigger json type. Different data types that can be used for storing json data can be found in the documentation [here](https://docs.hopsworks.ai/latest/user_guides/fs/feature_group/data_types/#string-online-data-types).  "
   ]
  },
  {
   "cell_type": "code",
   "execution_count": 5,
   "id": "9c87676a-2015-41bd-a221-f2fd21cd09fe",
   "metadata": {},
   "outputs": [],
   "source": [
    "# Create a feature group.\n",
    "fg = fs.get_or_create_feature_group(name = \"fg_raw_event_data\" ,\n",
    "                                    version = 1, \n",
    "                                    primary_key = [\"event_id\"])"
   ]
  },
  {
   "cell_type": "code",
   "execution_count": 6,
   "id": "92f2c18a-a6d2-4599-9960-937f37b06c5d",
   "metadata": {},
   "outputs": [
    {
     "name": "stdout",
     "output_type": "stream",
     "text": [
      "Feature Group created successfully, explore it at \n",
      "https://10.87.41.143:28181/p/119/fs/67/fg/30\n"
     ]
    },
    {
     "name": "stderr",
     "output_type": "stream",
     "text": [
      "Uploading Dataframe: 100.00% |█| Rows 20/20 | Elapsed Time: 00:00 | Remaining Ti\n"
     ]
    },
    {
     "name": "stdout",
     "output_type": "stream",
     "text": [
      "Launching job: fg_raw_event_data_1_offline_fg_materialization\n",
      "Job started successfully, you can follow the progress at \n",
      "https://10.87.41.143:28181/p/119/jobs/named/fg_raw_event_data_1_offline_fg_materialization/executions\n",
      "2025-03-12 22:48:52,412 INFO: Waiting for execution to finish. Current state: SUBMITTED. Final status: UNDEFINED\n",
      "2025-03-12 22:48:55,495 INFO: Waiting for execution to finish. Current state: RUNNING. Final status: UNDEFINED\n",
      "2025-03-12 22:50:21,746 INFO: Waiting for execution to finish. Current state: AGGREGATING_LOGS. Final status: SUCCEEDED\n",
      "2025-03-12 22:50:21,814 INFO: Waiting for log aggregation to finish.\n",
      "2025-03-12 22:50:30,233 INFO: Execution finished successfully.\n"
     ]
    },
    {
     "data": {
      "text/plain": [
       "(Job('fg_raw_event_data_1_offline_fg_materialization', 'SPARK'), None)"
      ]
     },
     "execution_count": 6,
     "metadata": {},
     "output_type": "execute_result"
    }
   ],
   "source": [
    "# Insert the dataframe\n",
    "fg.insert(df, wait=True)"
   ]
  },
  {
   "cell_type": "markdown",
   "id": "0a8c8b4e-eca3-4413-beea-b499815853f7",
   "metadata": {},
   "source": [
    "#### Inserting more data with a more features"
   ]
  },
  {
   "cell_type": "code",
   "execution_count": 7,
   "id": "8211eba8-87e1-46d8-9f19-43c3641a0c97",
   "metadata": {},
   "outputs": [
    {
     "data": {
      "text/plain": [
       "['{\"event_time\": \"2025-03-12T21:50:30.255624\", \"event_id\": 20, \"user_id\": 5, \"click_count\": 16, \"time_spent\": 15.06, \"scroll_depth\": 75.58, \"purchase_amount\": 430.55}',\n",
       " '{\"event_time\": \"2025-03-12T21:50:30.255671\", \"event_id\": 21, \"user_id\": 5, \"click_count\": 20, \"time_spent\": 5.22, \"scroll_depth\": 68.05, \"purchase_amount\": 298.2, \"ad_interaction\": 3}',\n",
       " '{\"event_time\": \"2025-03-12T21:50:30.255709\", \"event_id\": 22, \"user_id\": 13, \"click_count\": 19, \"time_spent\": 29.89, \"scroll_depth\": 52.91, \"purchase_amount\": 485.54, \"ad_interaction\": 0}',\n",
       " '{\"event_time\": \"2025-03-12T21:50:30.255723\", \"event_id\": 23, \"user_id\": 22, \"click_count\": 3, \"time_spent\": 20.61, \"scroll_depth\": 53.7, \"purchase_amount\": 133.41, \"ad_interaction\": 5}',\n",
       " '{\"event_time\": \"2025-03-12T21:50:30.255746\", \"event_id\": 24, \"user_id\": 11, \"click_count\": 3, \"time_spent\": 9.16, \"scroll_depth\": 15.82, \"purchase_amount\": 1.62, \"ad_interaction\": 5}',\n",
       " '{\"event_time\": \"2025-03-12T21:50:30.255760\", \"event_id\": 25, \"user_id\": 29, \"click_count\": 8, \"time_spent\": 29.17, \"scroll_depth\": 76.2, \"purchase_amount\": 253.84, \"ad_interaction\": 0}',\n",
       " '{\"event_time\": \"2025-03-12T21:50:30.255781\", \"event_id\": 26, \"user_id\": 28, \"click_count\": 20, \"time_spent\": 9.3, \"scroll_depth\": 63.89, \"purchase_amount\": 304.49, \"ad_interaction\": 1}',\n",
       " '{\"event_time\": \"2025-03-12T21:50:30.255795\", \"event_id\": 27, \"user_id\": 12, \"click_count\": 5, \"time_spent\": 16.41, \"scroll_depth\": 77.86, \"purchase_amount\": 265.18, \"ad_interaction\": 0}',\n",
       " '{\"event_time\": \"2025-03-12T21:50:30.255817\", \"event_id\": 28, \"user_id\": 20, \"click_count\": 10, \"time_spent\": 14.91, \"scroll_depth\": 11.19, \"purchase_amount\": 181.49, \"ad_interaction\": 2}',\n",
       " '{\"event_time\": \"2025-03-12T21:50:30.255831\", \"event_id\": 29, \"user_id\": 8, \"click_count\": 1, \"time_spent\": 7.61, \"scroll_depth\": 56.74, \"purchase_amount\": 39.38, \"ad_interaction\": 5}',\n",
       " '{\"event_time\": \"2025-03-12T21:50:30.255844\", \"event_id\": 30, \"user_id\": 16, \"click_count\": 2, \"time_spent\": 29.35, \"scroll_depth\": 53.27, \"purchase_amount\": 62.88, \"ad_interaction\": 5}',\n",
       " '{\"event_time\": \"2025-03-12T21:50:30.255858\", \"event_id\": 31, \"user_id\": 16, \"click_count\": 17, \"time_spent\": 5.37, \"scroll_depth\": 52.77, \"purchase_amount\": 303.3, \"ad_interaction\": 1}',\n",
       " '{\"event_time\": \"2025-03-12T21:50:30.255871\", \"event_id\": 32, \"user_id\": 30, \"click_count\": 17, \"time_spent\": 22.78, \"scroll_depth\": 68.99, \"purchase_amount\": 356.47, \"ad_interaction\": 3}',\n",
       " '{\"event_time\": \"2025-03-12T21:50:30.255885\", \"event_id\": 33, \"user_id\": 22, \"click_count\": 20, \"time_spent\": 11.52, \"scroll_depth\": 89.96, \"purchase_amount\": 225.74, \"ad_interaction\": 1}',\n",
       " '{\"event_time\": \"2025-03-12T21:50:30.255898\", \"event_id\": 34, \"user_id\": 8, \"click_count\": 2, \"time_spent\": 10.47, \"scroll_depth\": 58.83, \"purchase_amount\": 115.06, \"ad_interaction\": 1}',\n",
       " '{\"event_time\": \"2025-03-12T21:50:30.255920\", \"event_id\": 35, \"user_id\": 1, \"click_count\": 2, \"time_spent\": 21.38, \"scroll_depth\": 5.89, \"purchase_amount\": 33.7, \"ad_interaction\": 0}',\n",
       " '{\"event_time\": \"2025-03-12T21:50:30.255933\", \"event_id\": 36, \"user_id\": 28, \"click_count\": 10, \"time_spent\": 2.59, \"scroll_depth\": 23.8, \"purchase_amount\": 334.49, \"ad_interaction\": 1}',\n",
       " '{\"event_time\": \"2025-03-12T21:50:30.255947\", \"event_id\": 37, \"user_id\": 18, \"click_count\": 4, \"time_spent\": 21.84, \"scroll_depth\": 88.24, \"purchase_amount\": 288.11, \"ad_interaction\": 1}',\n",
       " '{\"event_time\": \"2025-03-12T21:50:30.255961\", \"event_id\": 38, \"user_id\": 26, \"click_count\": 15, \"time_spent\": 24.32, \"scroll_depth\": 19.04, \"purchase_amount\": 48.47, \"ad_interaction\": 3}',\n",
       " '{\"event_time\": \"2025-03-12T21:50:30.255974\", \"event_id\": 39, \"user_id\": 12, \"click_count\": 13, \"time_spent\": 12.63, \"scroll_depth\": 86.38, \"purchase_amount\": 27.09, \"ad_interaction\": 5}']"
      ]
     },
     "execution_count": 7,
     "metadata": {},
     "output_type": "execute_result"
    }
   ],
   "source": [
    "# Generating some more data with a new features and inserting it into a feature group\n",
    "data = generate_events(20)\n",
    "data"
   ]
  },
  {
   "cell_type": "code",
   "execution_count": 8,
   "id": "98dc5c17-c48c-4785-9ab9-1bb93f0ab2ab",
   "metadata": {},
   "outputs": [
    {
     "name": "stderr",
     "output_type": "stream",
     "text": [
      "Uploading Dataframe: 100.00% |█| Rows 20/20 | Elapsed Time: 00:00 | Remaining Ti\n"
     ]
    },
    {
     "name": "stdout",
     "output_type": "stream",
     "text": [
      "Launching job: fg_raw_event_data_1_offline_fg_materialization\n",
      "Job started successfully, you can follow the progress at \n",
      "https://10.87.41.143:28181/p/119/jobs/named/fg_raw_event_data_1_offline_fg_materialization/executions\n"
     ]
    },
    {
     "data": {
      "text/plain": [
       "(Job('fg_raw_event_data_1_offline_fg_materialization', 'SPARK'), None)"
      ]
     },
     "execution_count": 8,
     "metadata": {},
     "output_type": "execute_result"
    }
   ],
   "source": [
    "# Creating a pandas dataframe\n",
    "df = pd.DataFrame({\"data\" : data})\n",
    "\n",
    "# Extract primary key out json and create a new column in the pandas dataframe. \n",
    "df[\"event_id\"] = df[\"data\"].apply(lambda x : json.loads(x)[\"event_id\"])\n",
    "\n",
    "# Insert the dataframe\n",
    "fg.insert(df)"
   ]
  },
  {
   "cell_type": "markdown",
   "id": "23144254-9f21-480d-910e-577e50e1b49c",
   "metadata": {},
   "source": [
    "## Creating the first test model"
   ]
  },
  {
   "cell_type": "markdown",
   "id": "a9b4bb9c-c6a4-4cca-b122-fc3df244ecaa",
   "metadata": {},
   "source": [
    "#### Option 1: Create a feature view using the json data. The perform the json parsing after creating train test-split"
   ]
  },
  {
   "cell_type": "code",
   "execution_count": 9,
   "id": "aa1297ef-e680-42b0-8302-f94353e7c32e",
   "metadata": {},
   "outputs": [
    {
     "name": "stdout",
     "output_type": "stream",
     "text": [
      "2025-03-12 22:50:36,918 INFO: Using ['data'] as features for the query.To include primary key and event time use `select_all`.\n",
      "Feature view created successfully, explore it at \n",
      "https://10.87.41.143:28181/p/119/fs/67/fv/fv_test_1/version/1\n"
     ]
    }
   ],
   "source": [
    "# Write a query to read data from required feature group.\n",
    "query = fg.select_features()\n",
    "\n",
    "# Create a feature view.\n",
    "fv = fs.get_or_create_feature_view(name=\"fv_test_1\", \n",
    "                                   query = query, \n",
    "                                   version=1)"
   ]
  },
  {
   "cell_type": "code",
   "execution_count": 10,
   "id": "a1afc612-f1de-4fe9-8abb-ace88a3337bd",
   "metadata": {},
   "outputs": [
    {
     "name": "stdout",
     "output_type": "stream",
     "text": [
      "Finished: Reading data from Hopsworks, using Hopsworks Feature Query Service (0.28s) \n",
      "2025-03-12 22:50:40,706 WARNING: VersionWarning: Incremented version to `1`.\n",
      "\n"
     ]
    }
   ],
   "source": [
    "# Create a train-test split \n",
    "X_train, X_test, _, _ = fv.train_test_split(test_size = 0.2)\n",
    "\n",
    "# Json normalize the extracted dataframe.\n",
    "X_train = pd.json_normalize(X_train[\"data\"].apply(lambda x : json.loads(x)))\n",
    "X_test = pd.json_normalize(X_test[\"data\"].apply(lambda x : json.loads(x)))\n",
    "\n",
    "# Parse the required features\n",
    "y_train = X_train[[\"purchase_amount\"]]\n",
    "y_test = X_test[[\"purchase_amount\"]]\n",
    "\n",
    "X_train = X_train[[\"click_count\", \"time_spent\", \"scroll_depth\"]]\n",
    "X_test = X_test[[\"click_count\", \"time_spent\", \"scroll_depth\"]]\n",
    "\n",
    "# Do any feature enginerring if required ....."
   ]
  },
  {
   "cell_type": "code",
   "execution_count": 11,
   "id": "684b57f7-55a9-4444-b104-19fb90ee6d08",
   "metadata": {},
   "outputs": [],
   "source": [
    "# Train the linear regression model\n",
    "model = LinearRegression()\n",
    "model.fit(X_train, y_train)\n",
    "\n",
    "# Make predictions\n",
    "y_pred = model.predict(X_test)\n",
    "\n",
    "# Evaluate the model\n",
    "mse = mean_squared_error(y_test, y_pred)\n",
    "r2 = r2_score(y_test, y_pred)"
   ]
  },
  {
   "cell_type": "markdown",
   "id": "f69a1f1a-8841-4d2f-96b5-355102aab33b",
   "metadata": {},
   "source": [
    "#### Option 2: Create a feature view using the have a model dependent transformation function that performs the extract and splitting of json data into features.\n",
    "\n",
    "However it is important to note that aggregations inside transformation functions are not currently supported.\n",
    "You can find more information regarding transformation functions here: https://docs.hopsworks.ai/latest/user_guides/fs/transformation_functions/"
   ]
  },
  {
   "cell_type": "code",
   "execution_count": 12,
   "id": "c7a3763d-7f95-4fee-b0b1-64cc3328f627",
   "metadata": {},
   "outputs": [
    {
     "name": "stdout",
     "output_type": "stream",
     "text": [
      "2025-03-12 22:50:40,759 WARNING: UserWarning: Cannot extract imported dependencies for the UDF from the module in which it is defined. Please make sure to import all dependencies for the UDF inside the function.\n",
      "\n"
     ]
    }
   ],
   "source": [
    "@hopsworks.udf([int, int ,int, int], mode=\"pandas\", drop=[\"data\"])\n",
    "def extract_features(data):\n",
    "    # Need to be imported inside the function only if function defined in a jupyter notebook otherwise can be imported inside the file instead of the funciton.\n",
    "    from pandas import json_normalize\n",
    "    import json\n",
    "    \n",
    "    # Normalize the data\n",
    "    data = json_normalize(data.apply(lambda x : json.loads(x)))\n",
    "\n",
    "    # Return the features\n",
    "    return data[\"click_count\"], data[\"time_spent\"], data[\"scroll_depth\"], data[\"purchase_amount\"]"
   ]
  },
  {
   "cell_type": "code",
   "execution_count": 13,
   "id": "77867320-51a8-494f-b652-c9d2612178aa",
   "metadata": {},
   "outputs": [
    {
     "name": "stdout",
     "output_type": "stream",
     "text": [
      "2025-03-12 22:50:40,765 INFO: Using ['data'] as features for the query.To include primary key and event time use `select_all`.\n",
      "Feature view created successfully, explore it at \n",
      "https://10.87.41.143:28181/p/119/fs/67/fv/fv_test_2/version/1\n"
     ]
    }
   ],
   "source": [
    "fv = fs.get_or_create_feature_view(name=\"fv_test_2\", \n",
    "                                   query = fg.select_features(), \n",
    "                                   version=1, \n",
    "                                   transformation_functions = [extract_features(\"data\").alias(\"click_count\", \"time_spent\", \"scroll_depth\", \"purchase_amount\")])"
   ]
  },
  {
   "cell_type": "code",
   "execution_count": 14,
   "id": "294423f5-35ed-4695-85b1-cbd0282cc89e",
   "metadata": {},
   "outputs": [
    {
     "name": "stdout",
     "output_type": "stream",
     "text": [
      "Finished: Reading data from Hopsworks, using Hopsworks Feature Query Service (0.24s) \n",
      "2025-03-12 22:50:44,806 WARNING: VersionWarning: Incremented version to `1`.\n",
      "\n"
     ]
    }
   ],
   "source": [
    "X_train, X_test, _, _ = fv.train_test_split(test_size = 0.2)\n",
    "\n",
    "# Parse the required features\n",
    "y_train = X_train[[\"purchase_amount\"]]\n",
    "y_test = X_test[[\"purchase_amount\"]]\n",
    "\n",
    "X_train = X_train[[\"click_count\", \"time_spent\", \"scroll_depth\"]]\n",
    "X_test = X_test[[\"click_count\", \"time_spent\", \"scroll_depth\"]]\n",
    "\n",
    "# Do any feature enginerring if required .....\n",
    "\n"
   ]
  },
  {
   "cell_type": "code",
   "execution_count": 15,
   "id": "b21e5200-7722-44e7-abb2-cd2608c56640",
   "metadata": {},
   "outputs": [
    {
     "data": {
      "text/plain": [
       "17703.271255897707"
      ]
     },
     "execution_count": 15,
     "metadata": {},
     "output_type": "execute_result"
    }
   ],
   "source": [
    "# Train a model\n",
    "model = LinearRegression()\n",
    "model.fit(X_train, y_train)\n",
    "\n",
    "# Make predictions\n",
    "y_pred = model.predict(X_test)\n",
    "\n",
    "# Evaluate the model\n",
    "mse = mean_squared_error(y_test, y_pred)\n",
    "r2 = r2_score(y_test, y_pred)\n",
    "mse"
   ]
  },
  {
   "cell_type": "code",
   "execution_count": null,
   "id": "8015f79c-b06b-455c-97d0-c8a70ae2c8b9",
   "metadata": {},
   "outputs": [],
   "source": []
  }
 ],
 "metadata": {
  "kernelspec": {
   "display_name": "Python 3 (ipykernel)",
   "language": "python",
   "name": "python3"
  },
  "language_info": {
   "codemirror_mode": {
    "name": "ipython",
    "version": 3
   },
   "file_extension": ".py",
   "mimetype": "text/x-python",
   "name": "python",
   "nbconvert_exporter": "python",
   "pygments_lexer": "ipython3",
   "version": "3.10.16"
  }
 },
 "nbformat": 4,
 "nbformat_minor": 5
}
