{
 "cells": [
  {
   "cell_type": "code",
   "execution_count": 1,
   "id": "99ec3f3a-7558-43ce-8ec5-303ceccf75d4",
   "metadata": {},
   "outputs": [],
   "source": [
    "import hopsworks\n",
    "import pandas as pd\n",
    "import json"
   ]
  },
  {
   "cell_type": "markdown",
   "id": "ab55620b-9c1d-4ed9-8a74-3c5e5ea8b84d",
   "metadata": {},
   "source": [
    "## Creating a feature group from the feature group with Json Data"
   ]
  },
  {
   "cell_type": "markdown",
   "id": "1987b0d6-e963-486f-8c10-3beeca18ca0d",
   "metadata": {},
   "source": [
    "#### Login to Hopsworks and fetch feature group"
   ]
  },
  {
   "cell_type": "code",
   "execution_count": 2,
   "id": "977113bf-dca4-481c-aa25-5b389d2382b3",
   "metadata": {},
   "outputs": [
    {
     "name": "stdout",
     "output_type": "stream",
     "text": [
      "2025-03-13 09:46:41,093 INFO: Initializing external client\n",
      "2025-03-13 09:46:41,093 INFO: Base URL: https://10.87.41.143:28181\n",
      "2025-03-13 09:46:41,776 INFO: Python Engine initialized.\n",
      "\n",
      "Logged in to project, explore it here https://10.87.41.143:28181/p/119\n"
     ]
    }
   ],
   "source": [
    "# Login to Hopsworks.\n",
    "project = hopsworks.login()\n",
    "\n",
    "# Fetch the feature store.\n",
    "fs = project.get_feature_store()\n",
    "\n",
    "# Fetch the feature group\n",
    "fg_json = fs.get_feature_group(name=\"fg_raw_event_data\", version=1)"
   ]
  },
  {
   "cell_type": "markdown",
   "id": "13150da0-5545-4572-a8e0-2c8c5b72f344",
   "metadata": {},
   "source": [
    "#### Read data from the feature group and perform required feature enginerring"
   ]
  },
  {
   "cell_type": "code",
   "execution_count": 3,
   "id": "df17a41f-353e-42e3-a3f7-7bd2398c9dc1",
   "metadata": {},
   "outputs": [
    {
     "name": "stdout",
     "output_type": "stream",
     "text": [
      "Finished: Reading data from Hopsworks, using Hopsworks Feature Query Service (0.25s) \n"
     ]
    }
   ],
   "source": [
    "# Read from feature group\n",
    "df = fg_json.read()"
   ]
  },
  {
   "cell_type": "code",
   "execution_count": 7,
   "id": "fe68cbc4-4814-4306-ab27-11bddf29c3c1",
   "metadata": {},
   "outputs": [
    {
     "data": {
      "text/html": [
       "<div>\n",
       "<style scoped>\n",
       "    .dataframe tbody tr th:only-of-type {\n",
       "        vertical-align: middle;\n",
       "    }\n",
       "\n",
       "    .dataframe tbody tr th {\n",
       "        vertical-align: top;\n",
       "    }\n",
       "\n",
       "    .dataframe thead th {\n",
       "        text-align: right;\n",
       "    }\n",
       "</style>\n",
       "<table border=\"1\" class=\"dataframe\">\n",
       "  <thead>\n",
       "    <tr style=\"text-align: right;\">\n",
       "      <th></th>\n",
       "      <th>event_time</th>\n",
       "      <th>event_id</th>\n",
       "      <th>user_id</th>\n",
       "      <th>click_count</th>\n",
       "      <th>time_spent</th>\n",
       "      <th>scroll_depth</th>\n",
       "      <th>purchase_completed</th>\n",
       "      <th>checkout_time</th>\n",
       "      <th>ad_interaction</th>\n",
       "    </tr>\n",
       "  </thead>\n",
       "  <tbody>\n",
       "    <tr>\n",
       "      <th>0</th>\n",
       "      <td>2024-06-22 13:00:00</td>\n",
       "      <td>1</td>\n",
       "      <td>14</td>\n",
       "      <td>0</td>\n",
       "      <td>3.26</td>\n",
       "      <td>23.27</td>\n",
       "      <td>0</td>\n",
       "      <td>2024-06-22 17:00:00</td>\n",
       "      <td>NaN</td>\n",
       "    </tr>\n",
       "    <tr>\n",
       "      <th>1</th>\n",
       "      <td>2029-10-02 08:00:00</td>\n",
       "      <td>17</td>\n",
       "      <td>3</td>\n",
       "      <td>12</td>\n",
       "      <td>18.08</td>\n",
       "      <td>46.80</td>\n",
       "      <td>1</td>\n",
       "      <td>2029-10-02 12:00:00</td>\n",
       "      <td>NaN</td>\n",
       "    </tr>\n",
       "  </tbody>\n",
       "</table>\n",
       "</div>"
      ],
      "text/plain": [
       "            event_time  event_id  user_id  click_count  time_spent  \\\n",
       "0  2024-06-22 13:00:00         1       14            0        3.26   \n",
       "1  2029-10-02 08:00:00        17        3           12       18.08   \n",
       "\n",
       "   scroll_depth  purchase_completed        checkout_time  ad_interaction  \n",
       "0         23.27                   0  2024-06-22 17:00:00             NaN  \n",
       "1         46.80                   1  2029-10-02 12:00:00             NaN  "
      ]
     },
     "execution_count": 7,
     "metadata": {},
     "output_type": "execute_result"
    }
   ],
   "source": [
    "# Extract the json data convert it into a dataframe with required columns\n",
    "unnested_dataframe = pd.json_normalize(df[\"data\"].apply(lambda x : json.loads(x)))\n",
    "unnested_dataframe.head(2)"
   ]
  },
  {
   "cell_type": "code",
   "execution_count": 11,
   "id": "a6ac2079-b216-48ac-bb3a-4ce614714f0b",
   "metadata": {},
   "outputs": [],
   "source": [
    "# Perform required feature enginering\n",
    "unnested_dataframe = unnested_dataframe[[\"event_time\", \"event_id\", \"user_id\", \"click_count\", \"time_spent\", \"scroll_depth\", \"purchase_completed\", \"checkout_time\"]]\n",
    "\n",
    "# Convert string datetime to datetime object\n",
    "unnested_dataframe[\"event_time\"] = pd.to_datetime(unnested_dataframe[\"event_time\"])\n",
    "unnested_dataframe[\"checkout_time\"] = pd.to_datetime(unnested_dataframe[\"checkout_time\"])\n",
    "\n",
    "user_event_df = unnested_dataframe[[\"event_time\", \"event_id\", \"user_id\", \"purchase_completed\"]]\n",
    "\n",
    "events_df = unnested_dataframe[[\"event_time\", \"event_id\", \"click_count\", \"time_spent\", \"scroll_depth\", \"checkout_time\"]]"
   ]
  },
  {
   "cell_type": "markdown",
   "id": "2a99ce08-338f-43c0-b1e6-0892f689c5fe",
   "metadata": {},
   "source": [
    "#### Create feature groups\n",
    "\n",
    "There are two feature groups being created.\n",
    "1. **An user-events feature group** : This feature group store all events for an user. The feature group has the primary key as `user_id` hence the online feature store will only contain the latest events for the user and the offline feature group will contain all event triggered by the user.\n",
    "2. **An events feature group**: This feature group will conatin all information regarding the event. This feature group will have the primary key as `event_id`. Hence can be joined with the user-events feature group to create the entire dataframe.\n",
    "\n",
    "Splitting the data like this also allows creating a seperate *users feature group* which could contain user specific details which can again be joined to create a feature view."
   ]
  },
  {
   "cell_type": "markdown",
   "id": "0f7699a0-a562-443e-b1f7-bf72518f1ffc",
   "metadata": {},
   "source": [
    "##### Creating an on-demand transformation function\n",
    "\n",
    "Transformation functions can be created and attached to a feature group to defined on-demand transformation function.\n",
    "\n",
    "Transformation functions once defined can used across multiple feature groups and also be [saved in the feture store](https://docs.hopsworks.ai/latest/user_guides/fs/transformation_functions/#saving-to-the-feature-store) so that it can be [retrived and used from the feature store](https://docs.hopsworks.ai/latest/user_guides/fs/transformation_functions/#retrieval-from-the-feature-store)."
   ]
  },
  {
   "cell_type": "code",
   "execution_count": 33,
   "id": "72b9c092-8516-41ac-814b-9ca0941ffc09",
   "metadata": {},
   "outputs": [
    {
     "name": "stdout",
     "output_type": "stream",
     "text": [
      "2025-03-13 10:14:51,819 WARNING: UserWarning: Cannot extract imported dependencies for the UDF from the module in which it is defined. Please make sure to import all dependencies for the UDF inside the function.\n",
      "\n"
     ]
    }
   ],
   "source": [
    "# On-demand transformations can be used to calculate relative timestamp features\n",
    "@hopsworks.udf(float, mode=\"pandas\")\n",
    "def time_delta_event_time(event_time, feature):\n",
    "    return (feature - event_time).dt.seconds/(60*60)"
   ]
  },
  {
   "cell_type": "markdown",
   "id": "a8eb4788-4e9a-4650-8e0b-dcd15d1870b6",
   "metadata": {},
   "source": [
    "##### Creating a feature group"
   ]
  },
  {
   "cell_type": "code",
   "execution_count": 34,
   "id": "82639f3b-5377-48b6-b675-70e38b510f3e",
   "metadata": {},
   "outputs": [
    {
     "name": "stdout",
     "output_type": "stream",
     "text": [
      "2025-03-13 10:14:53,339 WARNING: DeprecationWarning: Providing event_time as a single-element list is deprecated and will be dropped in future versions. Provide the feature_name string instead.\n",
      "\n"
     ]
    },
    {
     "name": "stderr",
     "output_type": "stream",
     "text": [
      "\n",
      "Uploading Dataframe: 100.00% |███████████████████████████████████████████████████████████████████████████████████████████████████████████████████████████████████████████████████| Rows 40/40 | Elapsed Time: 00:00 | Remaining Time: 00:00\n"
     ]
    },
    {
     "name": "stdout",
     "output_type": "stream",
     "text": [
      "2025-03-13 10:14:55,832 WARNING: UserWarning: Materialization job is already running, aborting new execution.Please wait for the current execution to finish before triggering a new one.You can check the status of the current execution using `fg.materialization_job.get_state()`.or `fg.materialization_job.get_final_state()` or check it out in the Hopsworks UI.at https://10.87.41.143:28181/p/119/jobs/named/fg_user_events_1_offline_fg_materialization.\n",
      "Use fg.materialization_job.run(args=-op offline_fg_materialization -path hdfs:///Projects/musubi/Resources/jobs/fg_user_events_1_offline_fg_materialization/config_1741857223429) to trigger the materialization job again.\n",
      "\n",
      "Feature Group created successfully, explore it at \n",
      "https://10.87.41.143:28181/p/119/fs/67/fg/39\n"
     ]
    },
    {
     "name": "stderr",
     "output_type": "stream",
     "text": [
      "\n",
      "Uploading Dataframe: 100.00% |███████████████████████████████████████████████████████████████████████████████████████████████████████████████████████████████████████████████████| Rows 40/40 | Elapsed Time: 00:00 | Remaining Time: 00:00\n"
     ]
    },
    {
     "name": "stdout",
     "output_type": "stream",
     "text": [
      "Launching job: fg_events_1_offline_fg_materialization\n",
      "Job started successfully, you can follow the progress at \n",
      "https://10.87.41.143:28181/p/119/jobs/named/fg_events_1_offline_fg_materialization/executions\n"
     ]
    },
    {
     "data": {
      "text/plain": [
       "(Job('fg_events_1_offline_fg_materialization', 'SPARK'), None)"
      ]
     },
     "execution_count": 34,
     "metadata": {},
     "output_type": "execute_result"
    }
   ],
   "source": [
    "# Creating user-events feature group\n",
    "fg_user_events = fs.get_or_create_feature_group(name = \"fg_user_events\",\n",
    "                                                version = 1, \n",
    "                                                primary_key = [\"user_id\"],\n",
    "                                                event_time = [\"event_time\"],\n",
    "                                                online_enabled=True)\n",
    "\n",
    "# Creating events feature group\n",
    "fg_events = fs.get_or_create_feature_group(name = \"fg_events\",\n",
    "                                                version = 1, \n",
    "                                                primary_key = [\"event_id\"],\n",
    "                                                event_time = [\"event_time\"],\n",
    "                                                online_enabled=True,\n",
    "                                                transformation_functions=[time_delta_event_time(\"event_time\", \"checkout_time\").alias(\"time_till_checkout\")])\n",
    "\n",
    "\n",
    "# Inserting data into the feature groups\n",
    "fg_user_events.insert(user_event_df)\n",
    "fg_events.insert(events_df)"
   ]
  },
  {
   "cell_type": "markdown",
   "id": "367a4a54-a6cc-4704-87fb-f8b46981ae27",
   "metadata": {},
   "source": [
    "## Creating a feature view and generating train-test data"
   ]
  },
  {
   "cell_type": "markdown",
   "id": "3ee0cf43-653d-40ba-87ba-ed1ed7194cd7",
   "metadata": {},
   "source": [
    "#### Define a query to join feature groups\n",
    "\n",
    "The joins performed by Hopsworks are always point in time correct base on event time. Hence you can easily join the the user-events and the users feature groups to create a new feature view that has point int time correct data."
   ]
  },
  {
   "cell_type": "code",
   "execution_count": 37,
   "id": "c54bbeea-b0ea-46d3-9a22-f3492b5984e6",
   "metadata": {},
   "outputs": [
    {
     "name": "stdout",
     "output_type": "stream",
     "text": [
      "2025-03-13 10:16:41,761 INFO: Using ['click_count', 'time_spent', 'scroll_depth', 'checkout_time', 'time_till_checkout'] as features for the query.To include primary key and event time use `select_all`.\n",
      "Finished: Reading data from Hopsworks, using Hopsworks Feature Query Service (0.56s) \n"
     ]
    },
    {
     "data": {
      "text/html": [
       "<div>\n",
       "<style scoped>\n",
       "    .dataframe tbody tr th:only-of-type {\n",
       "        vertical-align: middle;\n",
       "    }\n",
       "\n",
       "    .dataframe tbody tr th {\n",
       "        vertical-align: top;\n",
       "    }\n",
       "\n",
       "    .dataframe thead th {\n",
       "        text-align: right;\n",
       "    }\n",
       "</style>\n",
       "<table border=\"1\" class=\"dataframe\">\n",
       "  <thead>\n",
       "    <tr style=\"text-align: right;\">\n",
       "      <th></th>\n",
       "      <th>purchase_completed</th>\n",
       "      <th>event_data_click_count</th>\n",
       "      <th>event_data_time_spent</th>\n",
       "      <th>event_data_scroll_depth</th>\n",
       "      <th>event_data_checkout_time</th>\n",
       "      <th>event_data_time_till_checkout</th>\n",
       "    </tr>\n",
       "  </thead>\n",
       "  <tbody>\n",
       "    <tr>\n",
       "      <th>0</th>\n",
       "      <td>0</td>\n",
       "      <td>7</td>\n",
       "      <td>7.08</td>\n",
       "      <td>73.65</td>\n",
       "      <td>2028-02-11 04:00:00+00:00</td>\n",
       "      <td>4.0</td>\n",
       "    </tr>\n",
       "    <tr>\n",
       "      <th>1</th>\n",
       "      <td>0</td>\n",
       "      <td>17</td>\n",
       "      <td>6.98</td>\n",
       "      <td>32.43</td>\n",
       "      <td>2033-07-27 07:00:00+00:00</td>\n",
       "      <td>1.0</td>\n",
       "    </tr>\n",
       "    <tr>\n",
       "      <th>2</th>\n",
       "      <td>1</td>\n",
       "      <td>3</td>\n",
       "      <td>5.01</td>\n",
       "      <td>16.00</td>\n",
       "      <td>2024-09-14 11:00:00+00:00</td>\n",
       "      <td>4.0</td>\n",
       "    </tr>\n",
       "    <tr>\n",
       "      <th>3</th>\n",
       "      <td>0</td>\n",
       "      <td>11</td>\n",
       "      <td>13.42</td>\n",
       "      <td>51.76</td>\n",
       "      <td>2033-09-19 05:00:00+00:00</td>\n",
       "      <td>1.0</td>\n",
       "    </tr>\n",
       "    <tr>\n",
       "      <th>4</th>\n",
       "      <td>1</td>\n",
       "      <td>7</td>\n",
       "      <td>29.92</td>\n",
       "      <td>13.83</td>\n",
       "      <td>2029-05-30 23:00:00+00:00</td>\n",
       "      <td>0.0</td>\n",
       "    </tr>\n",
       "  </tbody>\n",
       "</table>\n",
       "</div>"
      ],
      "text/plain": [
       "   purchase_completed  event_data_click_count  event_data_time_spent  \\\n",
       "0                   0                       7                   7.08   \n",
       "1                   0                      17                   6.98   \n",
       "2                   1                       3                   5.01   \n",
       "3                   0                      11                  13.42   \n",
       "4                   1                       7                  29.92   \n",
       "\n",
       "   event_data_scroll_depth  event_data_checkout_time  \\\n",
       "0                    73.65 2028-02-11 04:00:00+00:00   \n",
       "1                    32.43 2033-07-27 07:00:00+00:00   \n",
       "2                    16.00 2024-09-14 11:00:00+00:00   \n",
       "3                    51.76 2033-09-19 05:00:00+00:00   \n",
       "4                    13.83 2029-05-30 23:00:00+00:00   \n",
       "\n",
       "   event_data_time_till_checkout  \n",
       "0                            4.0  \n",
       "1                            1.0  \n",
       "2                            4.0  \n",
       "3                            1.0  \n",
       "4                            0.0  "
      ]
     },
     "execution_count": 37,
     "metadata": {},
     "output_type": "execute_result"
    }
   ],
   "source": [
    "query = fg_user_events.select(\"purchase_completed\").join(fg_events.select_features(), prefix=\"event_data_\", on=\"event_id\")\n",
    "query.show(5)"
   ]
  },
  {
   "cell_type": "markdown",
   "id": "fe8dcef4-cdd4-4688-b00f-94d2f9016b41",
   "metadata": {},
   "source": [
    "#### Creating feature view"
   ]
  },
  {
   "cell_type": "code",
   "execution_count": 38,
   "id": "328369b5-2127-45e6-8681-e7fd89104694",
   "metadata": {},
   "outputs": [
    {
     "name": "stdout",
     "output_type": "stream",
     "text": [
      "Feature view created successfully, explore it at \n",
      "https://10.87.41.143:28181/p/119/fs/67/fv/fv_events/version/1\n",
      "Finished: Reading data from Hopsworks, using Hopsworks Feature Query Service (0.40s) \n",
      "2025-03-13 10:16:52,246 WARNING: VersionWarning: Incremented version to `1`.\n",
      "\n"
     ]
    }
   ],
   "source": [
    "# Import any require model-dependent transformation functions\n",
    "from hopsworks.hsfs.builtin_transformations import min_max_scaler\n",
    "\n",
    "# Create feature view\n",
    "fv = fs.get_or_create_feature_view(name=\"fv_events\", \n",
    "                                   version = 1, \n",
    "                                   query = query, \n",
    "                                   transformation_functions=[\n",
    "                                       min_max_scaler(\"event_data_click_count\"), \n",
    "                                       min_max_scaler(\"event_data_time_spent\"), \n",
    "                                       min_max_scaler(\"event_data_scroll_depth\")\n",
    "                                   ],\n",
    "                                   labels = [\"purchase_completed\"])\n",
    "\n",
    "\n",
    "# Create training data\n",
    "X_train, X_test, y_train, y_test = fv.train_test_split(test_size = 0.2)"
   ]
  },
  {
   "cell_type": "markdown",
   "id": "bd2397a6-f4ac-4e7a-a199-c6eb729608cc",
   "metadata": {},
   "source": [
    "## Testing a new feature\n",
    "\n",
    "You can easily test a new fetaure without disturbing existing feature groups by creating a seperate feature group with only the new tests feature, this feature group can be joined with existing feature groups to create a new feature view. Once testing is done, the new feature can then be appended to an existing feature group can be used to create and backfill an new feature group."
   ]
  },
  {
   "cell_type": "code",
   "execution_count": 39,
   "id": "b2d6c2dd-d062-4d95-906b-157d8eafa4a8",
   "metadata": {},
   "outputs": [
    {
     "name": "stdout",
     "output_type": "stream",
     "text": [
      "Finished: Reading data from Hopsworks, using Hopsworks Feature Query Service (0.33s) \n"
     ]
    }
   ],
   "source": [
    "# Fetch the feature group with the raw json\n",
    "fg_json = fs.get_feature_group(name=\"fg_raw_event_data\", version=1)\n",
    "\n",
    "# Read the data from the raw feature group.\n",
    "df = fg_json.read()\n",
    "unnested_dataframe = pd.json_normalize(df[\"data\"].apply(lambda x : json.loads(x)))\n",
    "unnested_dataframe[\"event_time\"] = pd.to_datetime(unnested_dataframe[\"event_time\"])\n",
    "unnested_dataframe[\"checkout_time\"] = pd.to_datetime(unnested_dataframe[\"checkout_time\"])\n",
    "\n",
    "# Extract the new feature that is required to be tested.\n",
    "test_df = unnested_dataframe[[\"event_time\", \"event_id\", \"ad_interaction\"]]"
   ]
  },
  {
   "cell_type": "code",
   "execution_count": 40,
   "id": "cd8c25fd-1fb3-4971-af84-b5720ecb96b1",
   "metadata": {},
   "outputs": [
    {
     "name": "stdout",
     "output_type": "stream",
     "text": [
      "2025-03-13 10:16:55,119 WARNING: DeprecationWarning: Providing event_time as a single-element list is deprecated and will be dropped in future versions. Provide the feature_name string instead.\n",
      "\n",
      "Feature Group created successfully, explore it at \n",
      "https://10.87.41.143:28181/p/119/fs/67/fg/40\n"
     ]
    },
    {
     "name": "stderr",
     "output_type": "stream",
     "text": [
      "\n",
      "\u001b[Aoading Dataframe: 0.00% |                                                                                                                                                          | Rows 0/40 | Elapsed Time: 00:00 | Remaining Time: ?\n",
      "Uploading Dataframe: 100.00% |███████████████████████████████████████████████████████████████████████████████████████████████████████████████████████████████████████████████████| Rows 40/40 | Elapsed Time: 00:01 | Remaining Time: 00:00\n"
     ]
    },
    {
     "name": "stdout",
     "output_type": "stream",
     "text": [
      "Launching job: fg_test_1_offline_fg_materialization\n",
      "Job started successfully, you can follow the progress at \n",
      "https://10.87.41.143:28181/p/119/jobs/named/fg_test_1_offline_fg_materialization/executions\n"
     ]
    },
    {
     "data": {
      "text/plain": [
       "(Job('fg_test_1_offline_fg_materialization', 'SPARK'), None)"
      ]
     },
     "execution_count": 40,
     "metadata": {},
     "output_type": "execute_result"
    }
   ],
   "source": [
    "# Create the new test feature_group\n",
    "fg_test = fs.get_or_create_feature_group(name = \"fg_test\",\n",
    "                                                version = 1, \n",
    "                                                primary_key = [\"event_id\"],\n",
    "                                                event_time = [\"event_time\"],\n",
    "                                                online_enabled=True)\n",
    "\n",
    "fg_test.insert(test_df)"
   ]
  },
  {
   "cell_type": "code",
   "execution_count": 43,
   "id": "fb4c496b-8b27-4ed1-8dcc-c2e62403c888",
   "metadata": {},
   "outputs": [
    {
     "name": "stdout",
     "output_type": "stream",
     "text": [
      "2025-03-13 10:18:54,012 INFO: Using ['click_count', 'time_spent', 'scroll_depth', 'checkout_time', 'time_till_checkout'] as features for the query.To include primary key and event time use `select_all`.\n",
      "2025-03-13 10:18:54,014 INFO: Using ['ad_interaction'] as features for the query.To include primary key and event time use `select_all`.\n",
      "Finished: Reading data from Hopsworks, using Hopsworks Feature Query Service (0.62s) \n"
     ]
    },
    {
     "data": {
      "text/html": [
       "<div>\n",
       "<style scoped>\n",
       "    .dataframe tbody tr th:only-of-type {\n",
       "        vertical-align: middle;\n",
       "    }\n",
       "\n",
       "    .dataframe tbody tr th {\n",
       "        vertical-align: top;\n",
       "    }\n",
       "\n",
       "    .dataframe thead th {\n",
       "        text-align: right;\n",
       "    }\n",
       "</style>\n",
       "<table border=\"1\" class=\"dataframe\">\n",
       "  <thead>\n",
       "    <tr style=\"text-align: right;\">\n",
       "      <th></th>\n",
       "      <th>purchase_completed</th>\n",
       "      <th>event_data_click_count</th>\n",
       "      <th>event_data_time_spent</th>\n",
       "      <th>event_data_scroll_depth</th>\n",
       "      <th>event_data_checkout_time</th>\n",
       "      <th>event_data_time_till_checkout</th>\n",
       "      <th>testing_ad_interaction</th>\n",
       "    </tr>\n",
       "  </thead>\n",
       "  <tbody>\n",
       "    <tr>\n",
       "      <th>0</th>\n",
       "      <td>0</td>\n",
       "      <td>7</td>\n",
       "      <td>7.08</td>\n",
       "      <td>73.65</td>\n",
       "      <td>2028-02-11 04:00:00+00:00</td>\n",
       "      <td>4.0</td>\n",
       "      <td>NaN</td>\n",
       "    </tr>\n",
       "    <tr>\n",
       "      <th>1</th>\n",
       "      <td>0</td>\n",
       "      <td>17</td>\n",
       "      <td>6.98</td>\n",
       "      <td>32.43</td>\n",
       "      <td>2033-07-27 07:00:00+00:00</td>\n",
       "      <td>1.0</td>\n",
       "      <td>NaN</td>\n",
       "    </tr>\n",
       "    <tr>\n",
       "      <th>2</th>\n",
       "      <td>1</td>\n",
       "      <td>3</td>\n",
       "      <td>5.01</td>\n",
       "      <td>16.00</td>\n",
       "      <td>2024-09-14 11:00:00+00:00</td>\n",
       "      <td>4.0</td>\n",
       "      <td>NaN</td>\n",
       "    </tr>\n",
       "    <tr>\n",
       "      <th>3</th>\n",
       "      <td>0</td>\n",
       "      <td>11</td>\n",
       "      <td>13.42</td>\n",
       "      <td>51.76</td>\n",
       "      <td>2033-09-19 05:00:00+00:00</td>\n",
       "      <td>1.0</td>\n",
       "      <td>1.0</td>\n",
       "    </tr>\n",
       "    <tr>\n",
       "      <th>4</th>\n",
       "      <td>1</td>\n",
       "      <td>7</td>\n",
       "      <td>29.92</td>\n",
       "      <td>13.83</td>\n",
       "      <td>2029-05-30 23:00:00+00:00</td>\n",
       "      <td>0.0</td>\n",
       "      <td>NaN</td>\n",
       "    </tr>\n",
       "  </tbody>\n",
       "</table>\n",
       "</div>"
      ],
      "text/plain": [
       "   purchase_completed  event_data_click_count  event_data_time_spent  \\\n",
       "0                   0                       7                   7.08   \n",
       "1                   0                      17                   6.98   \n",
       "2                   1                       3                   5.01   \n",
       "3                   0                      11                  13.42   \n",
       "4                   1                       7                  29.92   \n",
       "\n",
       "   event_data_scroll_depth  event_data_checkout_time  \\\n",
       "0                    73.65 2028-02-11 04:00:00+00:00   \n",
       "1                    32.43 2033-07-27 07:00:00+00:00   \n",
       "2                    16.00 2024-09-14 11:00:00+00:00   \n",
       "3                    51.76 2033-09-19 05:00:00+00:00   \n",
       "4                    13.83 2029-05-30 23:00:00+00:00   \n",
       "\n",
       "   event_data_time_till_checkout  testing_ad_interaction  \n",
       "0                            4.0                     NaN  \n",
       "1                            1.0                     NaN  \n",
       "2                            4.0                     NaN  \n",
       "3                            1.0                     1.0  \n",
       "4                            0.0                     NaN  "
      ]
     },
     "execution_count": 43,
     "metadata": {},
     "output_type": "execute_result"
    }
   ],
   "source": [
    "# Create a new testing feature view that joins the feature groups : fg_user_events, fg_events and fg_test\n",
    "query = fg_user_events.select(\"purchase_completed\").join(fg_events.select_features(), prefix=\"event_data_\", on=\"event_id\").join(fg_test.select_features(), prefix=\"testing_\", on=\"event_id\")\n",
    "query.show(5)"
   ]
  },
  {
   "cell_type": "code",
   "execution_count": 44,
   "id": "dea14b08-a873-4111-92ff-9c09e7765938",
   "metadata": {},
   "outputs": [
    {
     "name": "stdout",
     "output_type": "stream",
     "text": [
      "Feature view created successfully, explore it at \n",
      "https://10.87.41.143:28181/p/119/fs/67/fv/fv_test/version/1\n",
      "Finished: Reading data from Hopsworks, using Hopsworks Feature Query Service (0.57s) \n",
      "2025-03-13 10:19:07,008 WARNING: VersionWarning: Incremented version to `1`.\n",
      "\n"
     ]
    }
   ],
   "source": [
    "# Create testing feature view\n",
    "fv_test = fs.get_or_create_feature_view(name=\"fv_test\", \n",
    "                                   version = 1, \n",
    "                                   query = query, \n",
    "                                   transformation_functions=[\n",
    "                                       min_max_scaler(\"event_data_click_count\"), \n",
    "                                       min_max_scaler(\"event_data_time_spent\"), \n",
    "                                       min_max_scaler(\"event_data_scroll_depth\"),\n",
    "                                       min_max_scaler(\"testing_ad_interaction\")\n",
    "                                   ],\n",
    "                                   labels = [\"purchase_completed\"])\n",
    "\n",
    "X_train, X_test, y_train, y_test = fv_test.train_test_split(test_size = 0.2)"
   ]
  },
  {
   "cell_type": "markdown",
   "id": "35f75095-487e-4a47-a792-6e038080ad72",
   "metadata": {},
   "source": [
    "### Appending new features to the feature view\n",
    "Once a feature has been testing and wants to be included in a feature group it can be done in two ways \n",
    "1. Appending the feature to an existing feature group and backfilling the data.\n",
    "2. Creating a new version of the feature group that contains the new feature and backfilling the data."
   ]
  },
  {
   "cell_type": "markdown",
   "id": "03b49d96-a3c1-42b1-aedf-eef5af29c587",
   "metadata": {},
   "source": [
    "#### Option 1: Appending the feature to the fetaure group"
   ]
  },
  {
   "cell_type": "markdown",
   "id": "b2b6bf6e-d01a-48e4-90ff-530ec75958f1",
   "metadata": {},
   "source": [
    "##### Appending the feature"
   ]
  },
  {
   "cell_type": "code",
   "execution_count": 45,
   "id": "f4d68301-86a1-4d00-8485-6f6fc18271a0",
   "metadata": {},
   "outputs": [],
   "source": [
    "# Create the feature to be appended\n",
    "from hsfs.feature import Feature\n",
    "features = [Feature(name=\"ad_interaction\",type=\"double\",online_type=\"double\")]"
   ]
  },
  {
   "cell_type": "code",
   "execution_count": 46,
   "id": "85ad4d7b-3064-4b7a-b2ab-3085cdb6caac",
   "metadata": {},
   "outputs": [
    {
     "name": "stdout",
     "output_type": "stream",
     "text": [
      "2025-03-13 10:19:20,618 INFO: Waiting for execution to finish. Current state: SUBMITTED. Final status: UNDEFINED\n",
      "2025-03-13 10:19:23,717 INFO: Waiting for execution to finish. Current state: RUNNING. Final status: UNDEFINED\n",
      "2025-03-13 10:20:25,437 INFO: Waiting for execution to finish. Current state: SUCCEEDING. Final status: UNDEFINED\n",
      "2025-03-13 10:20:28,529 INFO: Waiting for execution to finish. Current state: FINISHED. Final status: SUCCEEDED\n",
      "2025-03-13 10:20:28,716 INFO: Waiting for log aggregation to finish.\n",
      "2025-03-13 10:20:28,717 INFO: Execution finished successfully.\n"
     ]
    },
    {
     "data": {
      "text/plain": [
       "<hsfs.feature_group.FeatureGroup at 0x10609a5c0>"
      ]
     },
     "execution_count": 46,
     "metadata": {},
     "output_type": "execute_result"
    }
   ],
   "source": [
    "# Appending a new feature to the feature group\n",
    "fg_events.append_features(features)"
   ]
  },
  {
   "cell_type": "code",
   "execution_count": 51,
   "id": "2ed1cf60-db9b-4df5-bfae-b5d3204afa06",
   "metadata": {},
   "outputs": [
    {
     "data": {
      "text/plain": [
       "True"
      ]
     },
     "execution_count": 51,
     "metadata": {},
     "output_type": "execute_result"
    }
   ],
   "source": [
    "fg_events.features[6].on_demand"
   ]
  },
  {
   "cell_type": "markdown",
   "id": "7873f626-6919-42cc-aeaf-8e521efffb13",
   "metadata": {},
   "source": [
    "##### Backfilling data to the feature group"
   ]
  },
  {
   "cell_type": "code",
   "execution_count": 62,
   "id": "028bc254-b002-4861-83ec-41aeed9989ec",
   "metadata": {},
   "outputs": [
    {
     "name": "stdout",
     "output_type": "stream",
     "text": [
      "Finished: Reading data from Hopsworks, using Hopsworks Feature Query Service (0.38s) \n"
     ]
    },
    {
     "name": "stderr",
     "output_type": "stream",
     "text": [
      "\n",
      "Uploading Dataframe: 100.00% |███████████████████████████████████████████████████████████████████████████████████████████████████████████████████████████████████████████████████| Rows 40/40 | Elapsed Time: 00:00 | Remaining Time: 00:00\n"
     ]
    },
    {
     "name": "stdout",
     "output_type": "stream",
     "text": [
      "2025-03-13 10:27:24,511 WARNING: UserWarning: Materialization job is already running, aborting new execution.Please wait for the current execution to finish before triggering a new one.You can check the status of the current execution using `fg.materialization_job.get_state()`.or `fg.materialization_job.get_final_state()` or check it out in the Hopsworks UI.at https://10.87.41.143:28181/p/119/jobs/named/fg_events_1_offline_fg_materialization.\n",
      "Use fg.materialization_job.run(args=-op offline_fg_materialization -path hdfs:///Projects/musubi/Resources/jobs/fg_events_1_offline_fg_materialization/config_1741857296206) to trigger the materialization job again.\n",
      "\n"
     ]
    },
    {
     "data": {
      "text/plain": [
       "(Job('fg_events_1_offline_fg_materialization', 'SPARK'), None)"
      ]
     },
     "execution_count": 62,
     "metadata": {},
     "output_type": "execute_result"
    }
   ],
   "source": [
    "# Preparing data to be backfilled\n",
    "df = fg_json.read()\n",
    "unnested_dataframe = pd.json_normalize(df[\"data\"].apply(lambda x : json.loads(x)))\n",
    "unnested_dataframe[\"event_time\"] = pd.to_datetime(unnested_dataframe[\"event_time\"])\n",
    "unnested_dataframe[\"checkout_time\"] = pd.to_datetime(unnested_dataframe[\"checkout_time\"])\n",
    "\n",
    "events_df = unnested_dataframe[[\"event_time\", \"event_id\", \"click_count\", \"time_spent\", \"scroll_depth\", \"checkout_time\", \"ad_interaction\"]] \n",
    "\n",
    "# Insert the data into the feature group\n",
    "fg_events = fs.get_feature_group(name=\"fg_events\", version=1)\n",
    "fg_events.insert(events_df)"
   ]
  },
  {
   "cell_type": "markdown",
   "id": "343f7a43-7e3d-4a45-a188-fdbc52327681",
   "metadata": {},
   "source": [
    "#### Option 2: Creating the new feature group version"
   ]
  },
  {
   "cell_type": "markdown",
   "id": "4e83af29-38fe-435f-85f7-4dec8439a285",
   "metadata": {},
   "source": [
    "##### Creating a new version of the feature group"
   ]
  },
  {
   "cell_type": "code",
   "execution_count": 56,
   "id": "56e693a0-007d-4662-a0d9-152305306a5b",
   "metadata": {},
   "outputs": [
    {
     "name": "stdout",
     "output_type": "stream",
     "text": [
      "2025-03-13 10:25:18,682 WARNING: DeprecationWarning: Providing event_time as a single-element list is deprecated and will be dropped in future versions. Provide the feature_name string instead.\n",
      "\n"
     ]
    }
   ],
   "source": [
    "# Creating events feature group\n",
    "fg_events_v2 = fs.get_or_create_feature_group(name = \"fg_events\",\n",
    "                                                version = 2, \n",
    "                                                primary_key = [\"event_id\"],\n",
    "                                                event_time = [\"event_time\"],\n",
    "                                                online_enabled=True,\n",
    "                                                transformation_functions=[time_delta_event_time(\"event_time\", \"checkout_time\").alias(\"time_till_checkout\")])\n"
   ]
  },
  {
   "cell_type": "markdown",
   "id": "b8c2922e-1bcb-4aff-81cf-9a802b63acfd",
   "metadata": {},
   "source": [
    "##### Backfilling data to the feature group"
   ]
  },
  {
   "cell_type": "code",
   "execution_count": 59,
   "id": "fec4b483-af1a-4c71-a737-41716f66e0e4",
   "metadata": {},
   "outputs": [
    {
     "name": "stdout",
     "output_type": "stream",
     "text": [
      "Finished: Reading data from Hopsworks, using Hopsworks Feature Query Service (0.39s) \n",
      "Feature Group created successfully, explore it at \n",
      "https://10.87.41.143:28181/p/119/fs/67/fg/41\n"
     ]
    },
    {
     "name": "stderr",
     "output_type": "stream",
     "text": [
      "\n",
      "Uploading Dataframe: 100.00% |███████████████████████████████████████████████████████████████████████████████████████████████████████████████████████████████████████████████████| Rows 40/40 | Elapsed Time: 00:00 | Remaining Time: 00:00\n"
     ]
    },
    {
     "name": "stdout",
     "output_type": "stream",
     "text": [
      "Launching job: fg_events_2_offline_fg_materialization\n",
      "Job started successfully, you can follow the progress at \n",
      "https://10.87.41.143:28181/p/119/jobs/named/fg_events_2_offline_fg_materialization/executions\n"
     ]
    },
    {
     "data": {
      "text/plain": [
       "(Job('fg_events_2_offline_fg_materialization', 'SPARK'), None)"
      ]
     },
     "execution_count": 59,
     "metadata": {},
     "output_type": "execute_result"
    }
   ],
   "source": [
    "# Preparing data to be backfilled\n",
    "df = fg_json.read()\n",
    "unnested_dataframe = pd.json_normalize(df[\"data\"].apply(lambda x : json.loads(x)))\n",
    "unnested_dataframe[\"event_time\"] = pd.to_datetime(unnested_dataframe[\"event_time\"])\n",
    "unnested_dataframe[\"checkout_time\"] = pd.to_datetime(unnested_dataframe[\"checkout_time\"])\n",
    "\n",
    "events_df = unnested_dataframe[[\"event_time\", \"event_id\", \"click_count\", \"time_spent\", \"scroll_depth\", \"checkout_time\", \"ad_interaction\"]]\n",
    "\n",
    "# Insert the data into the feature group\n",
    "fg_events_v2.insert(events_df)"
   ]
  },
  {
   "cell_type": "code",
   "execution_count": null,
   "id": "2933843e-1409-4659-8e0b-8efa42e09f2c",
   "metadata": {},
   "outputs": [],
   "source": []
  }
 ],
 "metadata": {
  "kernelspec": {
   "display_name": "Python 3 (ipykernel)",
   "language": "python",
   "name": "python3"
  },
  "language_info": {
   "codemirror_mode": {
    "name": "ipython",
    "version": 3
   },
   "file_extension": ".py",
   "mimetype": "text/x-python",
   "name": "python",
   "nbconvert_exporter": "python",
   "pygments_lexer": "ipython3",
   "version": "3.10.16"
  }
 },
 "nbformat": 4,
 "nbformat_minor": 5
}
