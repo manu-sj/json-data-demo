{
 "cells": [
  {
   "cell_type": "code",
   "execution_count": 1,
   "id": "99ec3f3a-7558-43ce-8ec5-303ceccf75d4",
   "metadata": {},
   "outputs": [],
   "source": [
    "import hopsworks\n",
    "import pandas as pd\n",
    "import json"
   ]
  },
  {
   "cell_type": "markdown",
   "id": "ab55620b-9c1d-4ed9-8a74-3c5e5ea8b84d",
   "metadata": {},
   "source": [
    "## Creating a feature group from the feature group with Json Data"
   ]
  },
  {
   "cell_type": "markdown",
   "id": "1987b0d6-e963-486f-8c10-3beeca18ca0d",
   "metadata": {},
   "source": [
    "#### Login to Hopsworks and fetch feature group"
   ]
  },
  {
   "cell_type": "code",
   "execution_count": 2,
   "id": "977113bf-dca4-481c-aa25-5b389d2382b3",
   "metadata": {},
   "outputs": [
    {
     "name": "stdout",
     "output_type": "stream",
     "text": [
      "2025-03-12 22:55:41,405 INFO: Initializing external client\n",
      "2025-03-12 22:55:41,405 INFO: Base URL: https://10.87.41.143:28181\n",
      "2025-03-12 22:55:41,976 INFO: Python Engine initialized.\n",
      "\n",
      "Logged in to project, explore it here https://10.87.41.143:28181/p/119\n"
     ]
    }
   ],
   "source": [
    "# Login to Hopsworks.\n",
    "project = hopsworks.login()\n",
    "\n",
    "# Fetch the feature store.\n",
    "fs = project.get_feature_store()\n",
    "\n",
    "# Fetch the feature group\n",
    "fg_json = fs.get_feature_group(name=\"fg_raw_event_data\", version=1)"
   ]
  },
  {
   "cell_type": "markdown",
   "id": "13150da0-5545-4572-a8e0-2c8c5b72f344",
   "metadata": {},
   "source": [
    "#### Read data from the feature group and perform required feature enginerring"
   ]
  },
  {
   "cell_type": "code",
   "execution_count": 3,
   "id": "df17a41f-353e-42e3-a3f7-7bd2398c9dc1",
   "metadata": {},
   "outputs": [
    {
     "name": "stdout",
     "output_type": "stream",
     "text": [
      "Finished: Reading data from Hopsworks, using Hopsworks Feature Query Service (0.25s) \n"
     ]
    }
   ],
   "source": [
    "# Read from feature group\n",
    "df = fg_json.read()"
   ]
  },
  {
   "cell_type": "code",
   "execution_count": 4,
   "id": "fe68cbc4-4814-4306-ab27-11bddf29c3c1",
   "metadata": {},
   "outputs": [
    {
     "data": {
      "text/html": [
       "<div>\n",
       "<style scoped>\n",
       "    .dataframe tbody tr th:only-of-type {\n",
       "        vertical-align: middle;\n",
       "    }\n",
       "\n",
       "    .dataframe tbody tr th {\n",
       "        vertical-align: top;\n",
       "    }\n",
       "\n",
       "    .dataframe thead th {\n",
       "        text-align: right;\n",
       "    }\n",
       "</style>\n",
       "<table border=\"1\" class=\"dataframe\">\n",
       "  <thead>\n",
       "    <tr style=\"text-align: right;\">\n",
       "      <th></th>\n",
       "      <th>event_time</th>\n",
       "      <th>event_id</th>\n",
       "      <th>user_id</th>\n",
       "      <th>click_count</th>\n",
       "      <th>time_spent</th>\n",
       "      <th>scroll_depth</th>\n",
       "      <th>purchase_amount</th>\n",
       "      <th>ad_interaction</th>\n",
       "    </tr>\n",
       "  </thead>\n",
       "  <tbody>\n",
       "    <tr>\n",
       "      <th>0</th>\n",
       "      <td>2025-03-12T21:48:40.177399</td>\n",
       "      <td>1</td>\n",
       "      <td>24</td>\n",
       "      <td>17</td>\n",
       "      <td>3.06</td>\n",
       "      <td>42.19</td>\n",
       "      <td>14.90</td>\n",
       "      <td>NaN</td>\n",
       "    </tr>\n",
       "    <tr>\n",
       "      <th>1</th>\n",
       "      <td>2025-03-12T21:48:40.177770</td>\n",
       "      <td>17</td>\n",
       "      <td>11</td>\n",
       "      <td>6</td>\n",
       "      <td>19.84</td>\n",
       "      <td>39.56</td>\n",
       "      <td>457.27</td>\n",
       "      <td>NaN</td>\n",
       "    </tr>\n",
       "  </tbody>\n",
       "</table>\n",
       "</div>"
      ],
      "text/plain": [
       "                   event_time  event_id  user_id  click_count  time_spent  \\\n",
       "0  2025-03-12T21:48:40.177399         1       24           17        3.06   \n",
       "1  2025-03-12T21:48:40.177770        17       11            6       19.84   \n",
       "\n",
       "   scroll_depth  purchase_amount  ad_interaction  \n",
       "0         42.19            14.90             NaN  \n",
       "1         39.56           457.27             NaN  "
      ]
     },
     "execution_count": 4,
     "metadata": {},
     "output_type": "execute_result"
    }
   ],
   "source": [
    "# Extract the json data convert it into a dataframe with required columns\n",
    "unnested_dataframe = pd.json_normalize(df[\"data\"].apply(lambda x : json.loads(x)))\n",
    "unnested_dataframe.head(2)"
   ]
  },
  {
   "cell_type": "code",
   "execution_count": 5,
   "id": "a6ac2079-b216-48ac-bb3a-4ce614714f0b",
   "metadata": {},
   "outputs": [],
   "source": [
    "# Perform required feature enginering\n",
    "unnested_dataframe = unnested_dataframe[[\"event_time\", \"event_id\", \"user_id\", \"click_count\", \"time_spent\", \"scroll_depth\", \"purchase_amount\"]]\n",
    "# Convert string datetime to datetime object\n",
    "unnested_dataframe[\"event_time\"] = pd.to_datetime(unnested_dataframe[\"event_time\"])\n",
    "\n",
    "user_event_df = unnested_dataframe[[\"event_time\", \"event_id\", \"user_id\", \"purchase_amount\"]]\n",
    "\n",
    "events_df = unnested_dataframe[[\"event_time\", \"event_id\", \"click_count\", \"time_spent\", \"scroll_depth\"]]\n"
   ]
  },
  {
   "cell_type": "markdown",
   "id": "2a99ce08-338f-43c0-b1e6-0892f689c5fe",
   "metadata": {},
   "source": [
    "#### Create feature groups\n",
    "\n",
    "There are two feature groups being created.\n",
    "1. **An user-events feature group** : This feature group store all events for an user. The feature group has the primary key as `user_id` hence the online feature store will only contain the latest events for the user and the offline feature group will contain all event triggered by the user.\n",
    "2. **An events feature group**: This feature group will conatin all information regarding the event. This feature group will have the primary key as `event_id`. Hence can be joined with the user-events feature group to create the entire dataframe.\n",
    "\n",
    "Splitting the data like this also allows creating a seperate *users feature group* which could contain user specific details which can again be joined to create a feature view."
   ]
  },
  {
   "cell_type": "code",
   "execution_count": 6,
   "id": "82639f3b-5377-48b6-b675-70e38b510f3e",
   "metadata": {},
   "outputs": [
    {
     "name": "stdout",
     "output_type": "stream",
     "text": [
      "2025-03-12 22:55:44,874 WARNING: DeprecationWarning: Providing event_time as a single-element list is deprecated and will be dropped in future versions. Provide the feature_name string instead.\n",
      "\n",
      "Feature Group created successfully, explore it at \n",
      "https://10.87.41.143:28181/p/119/fs/67/fg/32\n"
     ]
    },
    {
     "name": "stderr",
     "output_type": "stream",
     "text": [
      "Uploading Dataframe: 100.00% |█| Rows 40/40 | Elapsed Time: 00:00 | Remaining Ti\n"
     ]
    },
    {
     "name": "stdout",
     "output_type": "stream",
     "text": [
      "Launching job: fg_user_events_1_offline_fg_materialization\n",
      "Job started successfully, you can follow the progress at \n",
      "https://10.87.41.143:28181/p/119/jobs/named/fg_user_events_1_offline_fg_materialization/executions\n",
      "Feature Group created successfully, explore it at \n",
      "https://10.87.41.143:28181/p/119/fs/67/fg/33\n"
     ]
    },
    {
     "name": "stderr",
     "output_type": "stream",
     "text": [
      "Uploading Dataframe: 100.00% |█| Rows 40/40 | Elapsed Time: 00:00 | Remaining Ti\n"
     ]
    },
    {
     "name": "stdout",
     "output_type": "stream",
     "text": [
      "Launching job: fg_events_1_offline_fg_materialization\n",
      "Job started successfully, you can follow the progress at \n",
      "https://10.87.41.143:28181/p/119/jobs/named/fg_events_1_offline_fg_materialization/executions\n"
     ]
    },
    {
     "data": {
      "text/plain": [
       "(Job('fg_events_1_offline_fg_materialization', 'SPARK'), None)"
      ]
     },
     "execution_count": 6,
     "metadata": {},
     "output_type": "execute_result"
    }
   ],
   "source": [
    "# Creating user-events feature group\n",
    "fg_user_events = fs.get_or_create_feature_group(name = \"fg_user_events\",\n",
    "                                                version = 1, \n",
    "                                                primary_key = [\"user_id\"],\n",
    "                                                event_time = [\"event_time\"],\n",
    "                                                online_enabled=True)\n",
    "# Creating events feature group\n",
    "fg_events = fs.get_or_create_feature_group(name = \"fg_events\",\n",
    "                                                version = 1, \n",
    "                                                primary_key = [\"event_id\"],\n",
    "                                                event_time = [\"event_time\"],\n",
    "                                                online_enabled=True)\n",
    "\n",
    "\n",
    "# Inserting data into the feature groups\n",
    "fg_user_events.insert(user_event_df)\n",
    "fg_events.insert(events_df)"
   ]
  },
  {
   "cell_type": "markdown",
   "id": "367a4a54-a6cc-4704-87fb-f8b46981ae27",
   "metadata": {},
   "source": [
    "## Creating a feature view and generating train-test data"
   ]
  },
  {
   "cell_type": "markdown",
   "id": "3ee0cf43-653d-40ba-87ba-ed1ed7194cd7",
   "metadata": {},
   "source": [
    "#### Define a query to join feature groups\n",
    "\n",
    "The joins performed by Hopsworks are always point in time correct base on event time. Hence you can easily join the the user-events and the users feature groups to create a new feature view that has point int time correct data."
   ]
  },
  {
   "cell_type": "code",
   "execution_count": 8,
   "id": "c54bbeea-b0ea-46d3-9a22-f3492b5984e6",
   "metadata": {},
   "outputs": [
    {
     "name": "stdout",
     "output_type": "stream",
     "text": [
      "2025-03-12 22:57:49,904 INFO: Using ['click_count', 'time_spent', 'scroll_depth'] as features for the query.To include primary key and event time use `select_all`.\n",
      "Finished: Reading data from Hopsworks, using Hopsworks Feature Query Service (0.52s) \n"
     ]
    },
    {
     "data": {
      "text/html": [
       "<div>\n",
       "<style scoped>\n",
       "    .dataframe tbody tr th:only-of-type {\n",
       "        vertical-align: middle;\n",
       "    }\n",
       "\n",
       "    .dataframe tbody tr th {\n",
       "        vertical-align: top;\n",
       "    }\n",
       "\n",
       "    .dataframe thead th {\n",
       "        text-align: right;\n",
       "    }\n",
       "</style>\n",
       "<table border=\"1\" class=\"dataframe\">\n",
       "  <thead>\n",
       "    <tr style=\"text-align: right;\">\n",
       "      <th></th>\n",
       "      <th>purchase_amount</th>\n",
       "      <th>event_data_click_count</th>\n",
       "      <th>event_data_time_spent</th>\n",
       "      <th>event_data_scroll_depth</th>\n",
       "    </tr>\n",
       "  </thead>\n",
       "  <tbody>\n",
       "    <tr>\n",
       "      <th>0</th>\n",
       "      <td>51.25</td>\n",
       "      <td>8</td>\n",
       "      <td>7.72</td>\n",
       "      <td>13.95</td>\n",
       "    </tr>\n",
       "    <tr>\n",
       "      <th>1</th>\n",
       "      <td>177.64</td>\n",
       "      <td>20</td>\n",
       "      <td>25.11</td>\n",
       "      <td>16.27</td>\n",
       "    </tr>\n",
       "    <tr>\n",
       "      <th>2</th>\n",
       "      <td>438.18</td>\n",
       "      <td>2</td>\n",
       "      <td>6.72</td>\n",
       "      <td>94.29</td>\n",
       "    </tr>\n",
       "    <tr>\n",
       "      <th>3</th>\n",
       "      <td>304.49</td>\n",
       "      <td>20</td>\n",
       "      <td>9.30</td>\n",
       "      <td>63.89</td>\n",
       "    </tr>\n",
       "    <tr>\n",
       "      <th>4</th>\n",
       "      <td>157.73</td>\n",
       "      <td>1</td>\n",
       "      <td>7.26</td>\n",
       "      <td>3.21</td>\n",
       "    </tr>\n",
       "  </tbody>\n",
       "</table>\n",
       "</div>"
      ],
      "text/plain": [
       "   purchase_amount  event_data_click_count  event_data_time_spent  \\\n",
       "0            51.25                       8                   7.72   \n",
       "1           177.64                      20                  25.11   \n",
       "2           438.18                       2                   6.72   \n",
       "3           304.49                      20                   9.30   \n",
       "4           157.73                       1                   7.26   \n",
       "\n",
       "   event_data_scroll_depth  \n",
       "0                    13.95  \n",
       "1                    16.27  \n",
       "2                    94.29  \n",
       "3                    63.89  \n",
       "4                     3.21  "
      ]
     },
     "execution_count": 8,
     "metadata": {},
     "output_type": "execute_result"
    }
   ],
   "source": [
    "query = fg_user_events.select(\"purchase_amount\").join(fg_events.select_features(), prefix=\"event_data_\", on=\"event_id\")\n",
    "query.show(5)"
   ]
  },
  {
   "cell_type": "markdown",
   "id": "fe8dcef4-cdd4-4688-b00f-94d2f9016b41",
   "metadata": {},
   "source": [
    "#### Creating feature view"
   ]
  },
  {
   "cell_type": "code",
   "execution_count": 9,
   "id": "328369b5-2127-45e6-8681-e7fd89104694",
   "metadata": {},
   "outputs": [
    {
     "name": "stdout",
     "output_type": "stream",
     "text": [
      "Feature view created successfully, explore it at \n",
      "https://10.87.41.143:28181/p/119/fs/67/fv/fv_events/version/1\n",
      "Finished: Reading data from Hopsworks, using Hopsworks Feature Query Service (0.48s) \n",
      "2025-03-12 22:57:59,221 WARNING: VersionWarning: Incremented version to `1`.\n",
      "\n"
     ]
    }
   ],
   "source": [
    "# Import any require model-dependent transformation functions\n",
    "from hopsworks.hsfs.builtin_transformations import min_max_scaler\n",
    "\n",
    "# Create feature view\n",
    "fv = fs.get_or_create_feature_view(name=\"fv_events\", \n",
    "                                   version = 1, \n",
    "                                   query = query, \n",
    "                                   transformation_functions=[\n",
    "                                       min_max_scaler(\"event_data_click_count\"), \n",
    "                                       min_max_scaler(\"event_data_time_spent\"), \n",
    "                                       min_max_scaler(\"event_data_scroll_depth\")\n",
    "                                   ],\n",
    "                                   labels = [\"purchase_amount\"])\n",
    "\n",
    "\n",
    "# Create training data\n",
    "X_train, X_test, y_train, y_test = fv.train_test_split(test_size = 0.2)"
   ]
  },
  {
   "cell_type": "markdown",
   "id": "bd2397a6-f4ac-4e7a-a199-c6eb729608cc",
   "metadata": {},
   "source": [
    "## Testing a new feature\n",
    "\n",
    "You can easily test a new fetaure without disturbing existing feature groups by creating a seperate feature group with only the new tests feature, this feature group can be joined with existing feature groups to create a new feature view. Once testing is done, the new feature can then be appended to an existing feature group can be used to create and backfill an new feature group."
   ]
  },
  {
   "cell_type": "code",
   "execution_count": 10,
   "id": "b2d6c2dd-d062-4d95-906b-157d8eafa4a8",
   "metadata": {},
   "outputs": [
    {
     "name": "stdout",
     "output_type": "stream",
     "text": [
      "Finished: Reading data from Hopsworks, using Hopsworks Feature Query Service (0.24s) \n"
     ]
    }
   ],
   "source": [
    "# Fetch the feature group with the raw json\n",
    "fg_json = fs.get_feature_group(name=\"fg_raw_event_data\", version=1)\n",
    "\n",
    "# Read the data from the raw feature group.\n",
    "df = fg_json.read()\n",
    "unnested_dataframe = pd.json_normalize(df[\"data\"].apply(lambda x : json.loads(x)))\n",
    "unnested_dataframe[\"event_time\"] = pd.to_datetime(unnested_dataframe[\"event_time\"])\n",
    "\n",
    "# Extract the new feature that is required to be tested.\n",
    "test_df = unnested_dataframe[[\"event_time\", \"event_id\", \"ad_interaction\"]]"
   ]
  },
  {
   "cell_type": "code",
   "execution_count": 11,
   "id": "cd8c25fd-1fb3-4971-af84-b5720ecb96b1",
   "metadata": {},
   "outputs": [
    {
     "name": "stdout",
     "output_type": "stream",
     "text": [
      "2025-03-12 22:58:00,683 WARNING: DeprecationWarning: Providing event_time as a single-element list is deprecated and will be dropped in future versions. Provide the feature_name string instead.\n",
      "\n",
      "Feature Group created successfully, explore it at \n",
      "https://10.87.41.143:28181/p/119/fs/67/fg/34\n"
     ]
    },
    {
     "name": "stderr",
     "output_type": "stream",
     "text": [
      "Uploading Dataframe: 100.00% |█| Rows 40/40 | Elapsed Time: 00:00 | Remaining Ti\n"
     ]
    },
    {
     "name": "stdout",
     "output_type": "stream",
     "text": [
      "Launching job: fg_test_1_offline_fg_materialization\n",
      "Job started successfully, you can follow the progress at \n",
      "https://10.87.41.143:28181/p/119/jobs/named/fg_test_1_offline_fg_materialization/executions\n"
     ]
    },
    {
     "data": {
      "text/plain": [
       "(Job('fg_test_1_offline_fg_materialization', 'SPARK'), None)"
      ]
     },
     "execution_count": 11,
     "metadata": {},
     "output_type": "execute_result"
    }
   ],
   "source": [
    "# Create the new test feature_group\n",
    "fg_test = fs.get_or_create_feature_group(name = \"fg_test\",\n",
    "                                                version = 1, \n",
    "                                                primary_key = [\"event_id\"],\n",
    "                                                event_time = [\"event_time\"],\n",
    "                                                online_enabled=True)\n",
    "\n",
    "fg_test.insert(test_df)"
   ]
  },
  {
   "cell_type": "code",
   "execution_count": 13,
   "id": "fb4c496b-8b27-4ed1-8dcc-c2e62403c888",
   "metadata": {},
   "outputs": [
    {
     "name": "stdout",
     "output_type": "stream",
     "text": [
      "2025-03-12 22:59:49,073 INFO: Using ['click_count', 'time_spent', 'scroll_depth'] as features for the query.To include primary key and event time use `select_all`.\n",
      "2025-03-12 22:59:49,075 INFO: Using ['ad_interaction'] as features for the query.To include primary key and event time use `select_all`.\n",
      "Finished: Reading data from Hopsworks, using Hopsworks Feature Query Service (0.57s) \n"
     ]
    },
    {
     "data": {
      "text/html": [
       "<div>\n",
       "<style scoped>\n",
       "    .dataframe tbody tr th:only-of-type {\n",
       "        vertical-align: middle;\n",
       "    }\n",
       "\n",
       "    .dataframe tbody tr th {\n",
       "        vertical-align: top;\n",
       "    }\n",
       "\n",
       "    .dataframe thead th {\n",
       "        text-align: right;\n",
       "    }\n",
       "</style>\n",
       "<table border=\"1\" class=\"dataframe\">\n",
       "  <thead>\n",
       "    <tr style=\"text-align: right;\">\n",
       "      <th></th>\n",
       "      <th>purchase_amount</th>\n",
       "      <th>event_data_click_count</th>\n",
       "      <th>event_data_time_spent</th>\n",
       "      <th>event_data_scroll_depth</th>\n",
       "      <th>testing_ad_interaction</th>\n",
       "    </tr>\n",
       "  </thead>\n",
       "  <tbody>\n",
       "    <tr>\n",
       "      <th>0</th>\n",
       "      <td>51.25</td>\n",
       "      <td>8</td>\n",
       "      <td>7.72</td>\n",
       "      <td>13.95</td>\n",
       "      <td>NaN</td>\n",
       "    </tr>\n",
       "    <tr>\n",
       "      <th>1</th>\n",
       "      <td>177.64</td>\n",
       "      <td>20</td>\n",
       "      <td>25.11</td>\n",
       "      <td>16.27</td>\n",
       "      <td>NaN</td>\n",
       "    </tr>\n",
       "    <tr>\n",
       "      <th>2</th>\n",
       "      <td>438.18</td>\n",
       "      <td>2</td>\n",
       "      <td>6.72</td>\n",
       "      <td>94.29</td>\n",
       "      <td>NaN</td>\n",
       "    </tr>\n",
       "    <tr>\n",
       "      <th>3</th>\n",
       "      <td>304.49</td>\n",
       "      <td>20</td>\n",
       "      <td>9.30</td>\n",
       "      <td>63.89</td>\n",
       "      <td>1.0</td>\n",
       "    </tr>\n",
       "    <tr>\n",
       "      <th>4</th>\n",
       "      <td>157.73</td>\n",
       "      <td>1</td>\n",
       "      <td>7.26</td>\n",
       "      <td>3.21</td>\n",
       "      <td>NaN</td>\n",
       "    </tr>\n",
       "  </tbody>\n",
       "</table>\n",
       "</div>"
      ],
      "text/plain": [
       "   purchase_amount  event_data_click_count  event_data_time_spent  \\\n",
       "0            51.25                       8                   7.72   \n",
       "1           177.64                      20                  25.11   \n",
       "2           438.18                       2                   6.72   \n",
       "3           304.49                      20                   9.30   \n",
       "4           157.73                       1                   7.26   \n",
       "\n",
       "   event_data_scroll_depth  testing_ad_interaction  \n",
       "0                    13.95                     NaN  \n",
       "1                    16.27                     NaN  \n",
       "2                    94.29                     NaN  \n",
       "3                    63.89                     1.0  \n",
       "4                     3.21                     NaN  "
      ]
     },
     "execution_count": 13,
     "metadata": {},
     "output_type": "execute_result"
    }
   ],
   "source": [
    "# Create a new testing feature view that joins the feature groups : fg_user_events, fg_events and fg_test\n",
    "query = fg_user_events.select(\"purchase_amount\").join(fg_events.select_features(), prefix=\"event_data_\", on=\"event_id\").join(fg_test.select_features(), prefix=\"testing_\", on=\"event_id\")\n",
    "query.show(5)"
   ]
  },
  {
   "cell_type": "code",
   "execution_count": 14,
   "id": "dea14b08-a873-4111-92ff-9c09e7765938",
   "metadata": {},
   "outputs": [
    {
     "name": "stdout",
     "output_type": "stream",
     "text": [
      "Feature view created successfully, explore it at \n",
      "https://10.87.41.143:28181/p/119/fs/67/fv/fv_test/version/1\n",
      "Finished: Reading data from Hopsworks, using Hopsworks Feature Query Service (0.53s) \n",
      "2025-03-12 23:00:01,453 WARNING: VersionWarning: Incremented version to `1`.\n",
      "\n"
     ]
    }
   ],
   "source": [
    "# Create testing feature view\n",
    "fv_test = fs.get_or_create_feature_view(name=\"fv_test\", \n",
    "                                   version = 1, \n",
    "                                   query = query, \n",
    "                                   transformation_functions=[\n",
    "                                       min_max_scaler(\"event_data_click_count\"), \n",
    "                                       min_max_scaler(\"event_data_time_spent\"), \n",
    "                                       min_max_scaler(\"event_data_scroll_depth\"),\n",
    "                                       min_max_scaler(\"testing_ad_interaction\")\n",
    "                                   ],\n",
    "                                   labels = [\"purchase_amount\"])\n",
    "\n",
    "X_train, X_test, y_train, y_test = fv_test.train_test_split(test_size = 0.2)"
   ]
  },
  {
   "cell_type": "markdown",
   "id": "35f75095-487e-4a47-a792-6e038080ad72",
   "metadata": {},
   "source": [
    "### Appending new features to the feature view\n",
    "Once a feature has been testing and wants to be included in a feature group it can be done in two ways \n",
    "1. Appending the feature to an existing feature group and backfilling the data.\n",
    "2. Creating a new version of the feature group that contains the new feature and backfilling the data."
   ]
  },
  {
   "cell_type": "markdown",
   "id": "03b49d96-a3c1-42b1-aedf-eef5af29c587",
   "metadata": {},
   "source": [
    "#### Option 1: Appending the feature to the fetaure group"
   ]
  },
  {
   "cell_type": "markdown",
   "id": "b2b6bf6e-d01a-48e4-90ff-530ec75958f1",
   "metadata": {},
   "source": [
    "##### Appending the feature"
   ]
  },
  {
   "cell_type": "code",
   "execution_count": 17,
   "id": "f4d68301-86a1-4d00-8485-6f6fc18271a0",
   "metadata": {},
   "outputs": [],
   "source": [
    "# Create the feature to be appended\n",
    "from hsfs.feature import Feature\n",
    "features = [Feature(name=\"ad_interaction\",type=\"double\",online_type=\"double\")]"
   ]
  },
  {
   "cell_type": "code",
   "execution_count": 18,
   "id": "85ad4d7b-3064-4b7a-b2ab-3085cdb6caac",
   "metadata": {},
   "outputs": [
    {
     "name": "stdout",
     "output_type": "stream",
     "text": [
      "2025-03-12 23:00:21,532 INFO: Waiting for execution to finish. Current state: SUBMITTED. Final status: UNDEFINED\n",
      "2025-03-12 23:00:24,614 INFO: Waiting for execution to finish. Current state: RUNNING. Final status: UNDEFINED\n",
      "2025-03-12 23:01:26,270 INFO: Waiting for execution to finish. Current state: AGGREGATING_LOGS. Final status: SUCCEEDED\n",
      "2025-03-12 23:01:26,352 INFO: Waiting for log aggregation to finish.\n",
      "2025-03-12 23:01:34,771 INFO: Execution finished successfully.\n"
     ]
    },
    {
     "data": {
      "text/plain": [
       "<hsfs.feature_group.FeatureGroup at 0x15ecd4520>"
      ]
     },
     "execution_count": 18,
     "metadata": {},
     "output_type": "execute_result"
    }
   ],
   "source": [
    "# Appending a new feature to the feature group\n",
    "fg_events.append_features(features)"
   ]
  },
  {
   "cell_type": "markdown",
   "id": "7873f626-6919-42cc-aeaf-8e521efffb13",
   "metadata": {},
   "source": [
    "##### Backfilling data to the feature group"
   ]
  },
  {
   "cell_type": "code",
   "execution_count": 19,
   "id": "028bc254-b002-4861-83ec-41aeed9989ec",
   "metadata": {},
   "outputs": [
    {
     "name": "stdout",
     "output_type": "stream",
     "text": [
      "Finished: Reading data from Hopsworks, using Hopsworks Feature Query Service (0.29s) \n"
     ]
    },
    {
     "name": "stderr",
     "output_type": "stream",
     "text": [
      "Uploading Dataframe: 100.00% |█| Rows 40/40 | Elapsed Time: 00:00 | Remaining Ti\n"
     ]
    },
    {
     "name": "stdout",
     "output_type": "stream",
     "text": [
      "Launching job: fg_events_1_offline_fg_materialization\n",
      "Job started successfully, you can follow the progress at \n",
      "https://10.87.41.143:28181/p/119/jobs/named/fg_events_1_offline_fg_materialization/executions\n"
     ]
    },
    {
     "data": {
      "text/plain": [
       "(Job('fg_events_1_offline_fg_materialization', 'SPARK'), None)"
      ]
     },
     "execution_count": 19,
     "metadata": {},
     "output_type": "execute_result"
    }
   ],
   "source": [
    "# Preparing data to be backfilled\n",
    "df = fg_json.read()\n",
    "unnested_dataframe = pd.json_normalize(df[\"data\"].apply(lambda x : json.loads(x)))\n",
    "unnested_dataframe[\"event_time\"] = pd.to_datetime(unnested_dataframe[\"event_time\"])\n",
    "\n",
    "events_df = unnested_dataframe[[\"event_time\", \"event_id\", \"click_count\", \"time_spent\", \"scroll_depth\", \"ad_interaction\"]]\n",
    "\n",
    "# Insert the data into the feature group\n",
    "fg_events.insert(events_df)"
   ]
  },
  {
   "cell_type": "markdown",
   "id": "343f7a43-7e3d-4a45-a188-fdbc52327681",
   "metadata": {},
   "source": [
    "#### Option 2: Creating the new feature group version"
   ]
  },
  {
   "cell_type": "markdown",
   "id": "4e83af29-38fe-435f-85f7-4dec8439a285",
   "metadata": {},
   "source": [
    "##### Creating a new version of the feature group"
   ]
  },
  {
   "cell_type": "code",
   "execution_count": 20,
   "id": "56e693a0-007d-4662-a0d9-152305306a5b",
   "metadata": {},
   "outputs": [
    {
     "name": "stdout",
     "output_type": "stream",
     "text": [
      "2025-03-12 23:01:56,339 WARNING: DeprecationWarning: Providing event_time as a single-element list is deprecated and will be dropped in future versions. Provide the feature_name string instead.\n",
      "\n"
     ]
    }
   ],
   "source": [
    "# Creating events feature group\n",
    "fg_events_v2 = fs.get_or_create_feature_group(name = \"fg_events\",\n",
    "                                                version = 2, \n",
    "                                                primary_key = [\"event_id\"],\n",
    "                                                event_time = [\"event_time\"],\n",
    "                                                online_enabled=True)\n"
   ]
  },
  {
   "cell_type": "markdown",
   "id": "b8c2922e-1bcb-4aff-81cf-9a802b63acfd",
   "metadata": {},
   "source": [
    "##### Backfilling data to the feature group"
   ]
  },
  {
   "cell_type": "code",
   "execution_count": 21,
   "id": "fec4b483-af1a-4c71-a737-41716f66e0e4",
   "metadata": {},
   "outputs": [
    {
     "name": "stdout",
     "output_type": "stream",
     "text": [
      "Finished: Reading data from Hopsworks, using Hopsworks Feature Query Service (0.24s) \n",
      "Feature Group created successfully, explore it at \n",
      "https://10.87.41.143:28181/p/119/fs/67/fg/35\n"
     ]
    },
    {
     "name": "stderr",
     "output_type": "stream",
     "text": [
      "Uploading Dataframe: 100.00% |█| Rows 40/40 | Elapsed Time: 00:00 | Remaining Ti\n"
     ]
    },
    {
     "name": "stdout",
     "output_type": "stream",
     "text": [
      "Launching job: fg_events_2_offline_fg_materialization\n",
      "Job started successfully, you can follow the progress at \n",
      "https://10.87.41.143:28181/p/119/jobs/named/fg_events_2_offline_fg_materialization/executions\n"
     ]
    },
    {
     "data": {
      "text/plain": [
       "(Job('fg_events_2_offline_fg_materialization', 'SPARK'), None)"
      ]
     },
     "execution_count": 21,
     "metadata": {},
     "output_type": "execute_result"
    }
   ],
   "source": [
    "# Preparing data to be backfilled\n",
    "df = fg_json.read()\n",
    "unnested_dataframe = pd.json_normalize(df[\"data\"].apply(lambda x : json.loads(x)))\n",
    "unnested_dataframe[\"event_time\"] = pd.to_datetime(unnested_dataframe[\"event_time\"])\n",
    "\n",
    "events_df = unnested_dataframe[[\"event_time\", \"event_id\", \"click_count\", \"time_spent\", \"scroll_depth\", \"ad_interaction\"]]\n",
    "\n",
    "# Insert the data into the feature group\n",
    "fg_events_v2.insert(events_df)"
   ]
  },
  {
   "cell_type": "code",
   "execution_count": null,
   "id": "2933843e-1409-4659-8e0b-8efa42e09f2c",
   "metadata": {},
   "outputs": [],
   "source": []
  }
 ],
 "metadata": {
  "kernelspec": {
   "display_name": "Python 3 (ipykernel)",
   "language": "python",
   "name": "python3"
  },
  "language_info": {
   "codemirror_mode": {
    "name": "ipython",
    "version": 3
   },
   "file_extension": ".py",
   "mimetype": "text/x-python",
   "name": "python",
   "nbconvert_exporter": "python",
   "pygments_lexer": "ipython3",
   "version": "3.10.16"
  }
 },
 "nbformat": 4,
 "nbformat_minor": 5
}
